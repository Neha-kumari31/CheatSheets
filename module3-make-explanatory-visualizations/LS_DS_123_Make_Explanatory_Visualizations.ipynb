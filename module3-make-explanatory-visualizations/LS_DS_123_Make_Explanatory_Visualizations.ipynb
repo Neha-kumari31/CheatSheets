{
  "nbformat": 4,
  "nbformat_minor": 0,
  "metadata": {
    "colab": {
      "name": "LS_DS_123_Make_Explanatory_Visualizations.ipynb",
      "version": "0.3.2",
      "provenance": [],
      "collapsed_sections": [],
      "include_colab_link": true
    },
    "language_info": {
      "codemirror_mode": {
        "name": "ipython",
        "version": 3
      },
      "file_extension": ".py",
      "mimetype": "text/x-python",
      "name": "python",
      "nbconvert_exporter": "python",
      "pygments_lexer": "ipython3",
      "version": "3.7.1"
    },
    "kernelspec": {
      "display_name": "Python 3",
      "language": "python",
      "name": "python3"
    }
  },
  "cells": [
    {
      "cell_type": "markdown",
      "metadata": {
        "id": "view-in-github",
        "colab_type": "text"
      },
      "source": [
        "<a href=\"https://colab.research.google.com/github/Neha-kumari31/CheatSheets/blob/master/module3-make-explanatory-visualizations/LS_DS_123_Make_Explanatory_Visualizations.ipynb\" target=\"_parent\"><img src=\"https://colab.research.google.com/assets/colab-badge.svg\" alt=\"Open In Colab\"/></a>"
      ]
    },
    {
      "cell_type": "markdown",
      "metadata": {
        "colab_type": "text",
        "id": "-8-trVo__vRE"
      },
      "source": [
        "_Lambda School Data Science_\n",
        "\n",
        "# Make Explanatory Visualizations\n",
        "\n",
        "### Objectives\n",
        "\n",
        "- identify misleading visualizations and how to fix them\n",
        "- use Seaborn to visualize distributions and relationships with continuous and discrete variables\n",
        "- add emphasis and annotations to transform visualizations from exploratory to explanatory\n",
        "- remove clutter from visualizations\n",
        "\n",
        "### Links\n",
        "\n",
        "- [How to Spot Visualization Lies](https://flowingdata.com/2017/02/09/how-to-spot-visualization-lies/)\n",
        "- [Visual Vocabulary - Vega Edition](http://ft.com/vocabulary)\n",
        "- [Choosing a Python Visualization Tool flowchart](http://pbpython.com/python-vis-flowchart.html)\n",
        "- [Searborn example gallery](http://seaborn.pydata.org/examples/index.html) & [tutorial](http://seaborn.pydata.org/tutorial.html)\n",
        "- [Strong Titles Are The Biggest Bang for Your Buck](http://stephanieevergreen.com/strong-titles/)\n",
        "- [Remove to improve (the data-ink ratio)](https://www.darkhorseanalytics.com/blog/data-looks-better-naked)\n",
        "- [How to Generate FiveThirtyEight Graphs in Python](https://www.dataquest.io/blog/making-538-plots/)"
      ]
    },
    {
      "cell_type": "markdown",
      "metadata": {
        "id": "s-24T844-8qv",
        "colab_type": "text"
      },
      "source": [
        "# Avoid Misleading Visualizations\n",
        "\n",
        "Did you find/discuss any interesting misleading visualizations in your Walkie Talkie?"
      ]
    },
    {
      "cell_type": "markdown",
      "metadata": {
        "id": "Qzxt9ntsNjs0",
        "colab_type": "text"
      },
      "source": [
        "## What makes a visualization misleading?\n",
        "\n",
        "[5 Ways Writers Use Misleading Graphs To Manipulate You](https://venngage.com/blog/misleading-graphs/)"
      ]
    },
    {
      "cell_type": "markdown",
      "metadata": {
        "id": "q7_DUiENNvxk",
        "colab_type": "text"
      },
      "source": [
        "## Two y-axes\n",
        "\n",
        "<img src=\"https://kieranhealy.org/files/misc/two-y-by-four-sm.jpg\" width=\"800\">\n",
        " \n",
        " Other Examples: \n",
        " - [Spurious Correlations](https://tylervigen.com/spurious-correlations)\n",
        " - <https://blog.datawrapper.de/dualaxis/>\n",
        " - <https://kieranhealy.org/blog/archives/2016/01/16/two-y-axes/>\n",
        " - <http://www.storytellingwithdata.com/blog/2016/2/1/be-gone-dual-y-axis>"
      ]
    },
    {
      "cell_type": "markdown",
      "metadata": {
        "id": "oIijNBDMNv2k",
        "colab_type": "text"
      },
      "source": [
        "##  Y-axis doesn't start at zero.\n",
        "\n",
        "<img src=\"https://i.pinimg.com/originals/22/53/a9/2253a944f54bb61f1983bc076ff33cdd.jpg\" width=\"600\">"
      ]
    },
    {
      "cell_type": "markdown",
      "metadata": {
        "id": "ISB2p8vZNv6r",
        "colab_type": "text"
      },
      "source": [
        "## Pie Charts are bad\n",
        "\n",
        "<img src=\"https://i1.wp.com/flowingdata.com/wp-content/uploads/2009/11/Fox-News-pie-chart.png?fit=620%2C465&ssl=1\" width=\"600\">"
      ]
    },
    {
      "cell_type": "markdown",
      "metadata": {
        "id": "67CsAzu1NwBJ",
        "colab_type": "text"
      },
      "source": [
        "## Pie charts that omit data are extra bad\n",
        " \n",
        "- A guy makes a misleading chart that goes viral\n",
        "\n",
        " What does this chart imply at first glance? You don't want your user to have to do a lot of work in order to be able to interpret you graph correctly. You want that first-glance conclusions to be the correct ones.\n",
        "\n",
        " <img src=\"https://pbs.twimg.com/media/DiaiTLHWsAYAEEX?format=jpg&name=medium\" width='600'>\n",
        " \n",
        " <https://twitter.com/michaelbatnick/status/1019680856837849090?lang=en>\n",
        " \n",
        "- It gets picked up by overworked journalists (assuming incompetency before malice)\n",
        " \n",
        " <https://www.marketwatch.com/story/this-1-chart-puts-mega-techs-trillions-of-market-value-into-eye-popping-perspective-2018-07-18>\n",
        " \n",
        "- Even after the chart's implications have been refuted, it's hard a bad (although compelling) visualization from being passed around.\n",
        "\n",
        " <https://www.linkedin.com/pulse/good-bad-pie-charts-karthik-shashidhar/>\n",
        "\n",
        "**[\"yea I understand a pie chart was probably not the best choice to present this data.\"](https://twitter.com/michaelbatnick/status/1037036440494985216)**"
      ]
    },
    {
      "cell_type": "markdown",
      "metadata": {
        "id": "FYXmlToEOOTC",
        "colab_type": "text"
      },
      "source": [
        "## Pie Charts that compare unrelated things are next-level extra bad\n",
        "\n",
        "<img src=\"http://www.painting-with-numbers.com/download/document/186/170403+Legalizing+Marijuana+Graph.jpg\" width=\"600\">\n"
      ]
    },
    {
      "cell_type": "markdown",
      "metadata": {
        "id": "IwtMQpY_QFUw",
        "colab_type": "text"
      },
      "source": [
        "## Be careful about how you use volume to represent quantities:\n",
        "\n",
        "radius vs diameter vs volume\n",
        "\n",
        "<img src=\"https://static1.squarespace.com/static/5bfc8dbab40b9d7dd9054f41/t/5c32d86e0ebbe80a25873249/1546836082961/5474039-25383714-thumbnail.jpg?format=1500w\" width=\"600\">"
      ]
    },
    {
      "cell_type": "markdown",
      "metadata": {
        "id": "tTuAWjSBRsc7",
        "colab_type": "text"
      },
      "source": [
        "## Don't cherrypick timelines or specific subsets of your data:\n",
        "\n",
        "<img src=\"https://wattsupwiththat.com/wp-content/uploads/2019/02/Figure-1-1.png\" width=\"600\">\n",
        "\n",
        "Look how specifically the writer has selected what years to show in the legend on the right side.\n",
        "\n",
        "<https://wattsupwiththat.com/2019/02/24/strong-arctic-sea-ice-growth-this-year/>\n",
        "\n",
        "Try the tool that was used to make the graphic for yourself\n",
        "\n",
        "<http://nsidc.org/arcticseaicenews/charctic-interactive-sea-ice-graph/>\n",
        "                                                                                           "
      ]
    },
    {
      "cell_type": "markdown",
      "metadata": {
        "id": "Xs13S7p4Srme",
        "colab_type": "text"
      },
      "source": [
        "## Use Relative units rather than Absolute Units\n",
        "\n",
        "<img src=\"https://imgs.xkcd.com/comics/heatmap_2x.png\" width=\"600\">"
      ]
    },
    {
      "cell_type": "markdown",
      "metadata": {
        "id": "CIMt5OiuTlrr",
        "colab_type": "text"
      },
      "source": [
        "## Avoid 3D graphs unless having the extra dimension is effective\n",
        "\n",
        "Usually you can Split 3D graphs into multiple 2D graphs\n",
        "\n",
        "3D graphs that are interactive can be very cool. (See Plotly and Bokeh)\n",
        "\n",
        "<img src=\"https://thumbor.forbes.com/thumbor/1280x868/https%3A%2F%2Fblogs-images.forbes.com%2Fthumbnails%2Fblog_1855%2Fpt_1855_811_o.jpg%3Ft%3D1339592470\" width=\"600\">"
      ]
    },
    {
      "cell_type": "markdown",
      "metadata": {
        "id": "GATMu9IqUlIj",
        "colab_type": "text"
      },
      "source": [
        "## Don't go against typical conventions\n",
        "\n",
        "<img src=\"http://www.callingbullshit.org/twittercards/tools_misleading_axes.png\" width=\"600\">"
      ]
    },
    {
      "cell_type": "markdown",
      "metadata": {
        "id": "g6bKgZ0m_ynS",
        "colab_type": "text"
      },
      "source": [
        "# Tips for choosing an appropriate visualization:"
      ]
    },
    {
      "cell_type": "markdown",
      "metadata": {
        "id": "WtBsVnO4VHiJ",
        "colab_type": "text"
      },
      "source": [
        "## Use Appropriate \"Visual Vocabulary\"\n",
        "\n",
        "[Visual Vocabulary - Vega Edition](http://ft.com/vocabulary)"
      ]
    },
    {
      "cell_type": "markdown",
      "metadata": {
        "id": "H_QM9FHqVT7T",
        "colab_type": "text"
      },
      "source": [
        "## What are the properties of your data?\n",
        "- Is your primary variable of interest continuous or discrete?\n",
        "- Is in wide or long (tidy) format?\n",
        "- Does your visualization involve multiple variables?\n",
        "- How many dimensions do you need to include on your plot?\n",
        "\n",
        "Can you express the main idea of your visualization in a single sentence?\n",
        "\n",
        "How hard does your visualization make the user work in order to draw the intended conclusion?"
      ]
    },
    {
      "cell_type": "markdown",
      "metadata": {
        "id": "5EqXxnJeB89_",
        "colab_type": "text"
      },
      "source": [
        "## Which Visualization tool is most appropriate? \n",
        "\n",
        "[Choosing a Python Visualization Tool flowchart](http://pbpython.com/python-vis-flowchart.html)"
      ]
    },
    {
      "cell_type": "markdown",
      "metadata": {
        "id": "4mDuzLeNn23m",
        "colab_type": "text"
      },
      "source": [
        "## Anatomy of a Matplotlib Plot"
      ]
    },
    {
      "cell_type": "code",
      "metadata": {
        "id": "h-aIS1Vdn2RR",
        "colab_type": "code",
        "outputId": "6b5a74e9-12df-447b-a5af-dbbc0e9ce09e",
        "colab": {
          "base_uri": "https://localhost:8080/",
          "height": 555
        }
      },
      "source": [
        "import numpy as np\n",
        "import matplotlib.pyplot as plt\n",
        "from matplotlib.ticker import AutoMinorLocator, MultipleLocator, FuncFormatter\n",
        "\n",
        "np.random.seed(19680801)\n",
        "\n",
        "X = np.linspace(0.5, 3.5, 100)\n",
        "Y1 = 3+np.cos(X)\n",
        "Y2 = 1+np.cos(1+X/0.75)/2\n",
        "Y3 = np.random.uniform(Y1, Y2, len(X))\n",
        "\n",
        "fig = plt.figure(figsize=(8, 8))\n",
        "ax = fig.add_subplot(1, 1, 1, aspect=1)\n",
        "\n",
        "\n",
        "def minor_tick(x, pos):\n",
        "    if not x % 1.0:\n",
        "        return \"\"\n",
        "    return \"%.2f\" % x\n",
        "\n",
        "ax.xaxis.set_major_locator(MultipleLocator(1.000))\n",
        "ax.xaxis.set_minor_locator(AutoMinorLocator(4))\n",
        "ax.yaxis.set_major_locator(MultipleLocator(1.000))\n",
        "ax.yaxis.set_minor_locator(AutoMinorLocator(4))\n",
        "ax.xaxis.set_minor_formatter(FuncFormatter(minor_tick))\n",
        "\n",
        "ax.set_xlim(0, 4)\n",
        "ax.set_ylim(0, 4)\n",
        "\n",
        "ax.tick_params(which='major', width=1.0)\n",
        "ax.tick_params(which='major', length=10)\n",
        "ax.tick_params(which='minor', width=1.0, labelsize=10)\n",
        "ax.tick_params(which='minor', length=5, labelsize=10, labelcolor='0.25')\n",
        "\n",
        "ax.grid(linestyle=\"--\", linewidth=0.5, color='.25', zorder=-10)\n",
        "\n",
        "ax.plot(X, Y1, c=(0.25, 0.25, 1.00), lw=2, label=\"Blue signal\", zorder=10)\n",
        "ax.plot(X, Y2, c=(1.00, 0.25, 0.25), lw=2, label=\"Red signal\")\n",
        "ax.plot(X, Y3, linewidth=0,\n",
        "        marker='o', markerfacecolor='w', markeredgecolor='k')\n",
        "\n",
        "ax.set_title(\"Anatomy of a figure\", fontsize=20, verticalalignment='bottom')\n",
        "ax.set_xlabel(\"X axis label\")\n",
        "ax.set_ylabel(\"Y axis label\")\n",
        "\n",
        "ax.legend()\n",
        "\n",
        "\n",
        "def circle(x, y, radius=0.15):\n",
        "    from matplotlib.patches import Circle\n",
        "    from matplotlib.patheffects import withStroke\n",
        "    circle = Circle((x, y), radius, clip_on=False, zorder=10, linewidth=1,\n",
        "                    edgecolor='black', facecolor=(0, 0, 0, .0125),\n",
        "                    path_effects=[withStroke(linewidth=5, foreground='w')])\n",
        "    ax.add_artist(circle)\n",
        "\n",
        "\n",
        "def text(x, y, text):\n",
        "    ax.text(x, y, text, backgroundcolor=\"white\",\n",
        "            ha='center', va='top', weight='bold', color='blue')\n",
        "\n",
        "# Minor tick\n",
        "circle(0.50, -0.10)\n",
        "text(0.50, -0.32, \"Minor tick label\")\n",
        "\n",
        "# Major tick\n",
        "circle(-0.03, 4.00)\n",
        "text(0.03, 3.80, \"Major tick\")\n",
        "\n",
        "# Minor tick\n",
        "circle(0.00, 3.50)\n",
        "text(0.00, 3.30, \"Minor tick\")\n",
        "\n",
        "# Major tick label\n",
        "circle(-0.15, 3.00)\n",
        "text(-0.15, 2.80, \"Major tick label\")\n",
        "\n",
        "# X Label\n",
        "circle(1.80, -0.27)\n",
        "text(1.80, -0.45, \"X axis label\")\n",
        "\n",
        "# Y Label\n",
        "circle(-0.27, 1.80)\n",
        "text(-0.27, 1.6, \"Y axis label\")\n",
        "\n",
        "# Title\n",
        "circle(1.60, 4.13)\n",
        "text(1.60, 3.93, \"Title\")\n",
        "\n",
        "# Blue plot\n",
        "circle(1.75, 2.80)\n",
        "text(1.75, 2.60, \"Line\\n(line plot)\")\n",
        "\n",
        "# Red plot\n",
        "circle(1.20, 0.60)\n",
        "text(1.20, 0.40, \"Line\\n(line plot)\")\n",
        "\n",
        "# Scatter plot\n",
        "circle(3.20, 1.75)\n",
        "text(3.20, 1.55, \"Markers\\n(scatter plot)\")\n",
        "\n",
        "# Grid\n",
        "circle(3.00, 3.00)\n",
        "text(3.00, 2.80, \"Grid\")\n",
        "\n",
        "# Legend\n",
        "circle(3.70, 3.80)\n",
        "text(3.70, 3.60, \"Legend\")\n",
        "\n",
        "# Axes\n",
        "circle(0.5, 0.5)\n",
        "text(0.5, 0.3, \"Axes\")\n",
        "\n",
        "# Figure\n",
        "circle(-0.3, 0.65)\n",
        "text(-0.3, 0.45, \"Figure\")\n",
        "\n",
        "color = 'blue'\n",
        "ax.annotate('Spines', xy=(4.0, 0.35), xytext=(3.3, 0.5),\n",
        "            weight='bold', color=color,\n",
        "            arrowprops=dict(arrowstyle='->',\n",
        "                            connectionstyle=\"arc3\",\n",
        "                            color=color))\n",
        "\n",
        "ax.annotate('', xy=(3.15, 0.0), xytext=(3.45, 0.45),\n",
        "            weight='bold', color=color,\n",
        "            arrowprops=dict(arrowstyle='->',\n",
        "                            connectionstyle=\"arc3\",\n",
        "                            color=color))\n",
        "\n",
        "ax.text(4.0, -0.4, \"Made with http://matplotlib.org\",\n",
        "        fontsize=10, ha=\"right\", color='.5')\n",
        "\n",
        "plt.show()"
      ],
      "execution_count": 0,
      "outputs": [
        {
          "output_type": "display_data",
          "data": {
            "image/png": "[encoded data removed]",
            "text/plain": [
              "<Figure size 576x576 with 1 Axes>"
            ]
          },
          "metadata": {
            "tags": []
          }
        }
      ]
    },
    {
      "cell_type": "markdown",
      "metadata": {
        "id": "Nc0ZzL9UyWX7",
        "colab_type": "text"
      },
      "source": [
        "##simple webscraper with IMDb"
      ]
    },
    {
      "cell_type": "code",
      "metadata": {
        "id": "PybeY3opm932",
        "colab_type": "code",
        "outputId": "2d5de318-1489-4359-8c8d-a6aa0acbcfd5",
        "colab": {
          "base_uri": "https://localhost:8080/",
          "height": 485
        }
      },
      "source": [
        "# send request to server to get raw html in string\n",
        "from requests import get\n",
        "url = 'https://www.imdb.com/title/tt6105098/ratings?ref_=tt_ov_rt'\n",
        "#save response from get\n",
        "response=get(url)\n",
        "print(response.text[:500]) # to get the first 500 text field"
      ],
      "execution_count": 0,
      "outputs": [
        {
          "output_type": "stream",
          "text": [
            "\n",
            "\n",
            "\n",
            "\n",
            "\n",
            "\n",
            "\n",
            "\n",
            "\n",
            "\n",
            "<!DOCTYPE html>\n",
            "<html\n",
            "    xmlns:og=\"http://ogp.me/ns#\"\n",
            "    xmlns:fb=\"http://www.facebook.com/2008/fbml\">\n",
            "    <head>\n",
            "         \n",
            "        <meta charset=\"utf-8\">\n",
            "        <meta http-equiv=\"X-UA-Compatible\" content=\"IE=edge\">\n",
            "\n",
            "    <meta name=\"apple-itunes-app\" content=\"app-id=342792525, app-argument=imdb:///title/tt6105098?src=mdot\">\n",
            "\n",
            "\n",
            "\n",
            "        <script type=\"text/javascript\">var IMDbTimer={starttime: new Date().getTime(),pt:'java'};</script>\n",
            "\n",
            "<script>\n",
            "    if (typeof uet == 'function') {\n",
            "     \n"
          ],
          "name": "stdout"
        }
      ]
    },
    {
      "cell_type": "code",
      "metadata": {
        "id": "EGPD9aHfrWd5",
        "colab_type": "code",
        "colab": {}
      },
      "source": [
        "#response."
      ],
      "execution_count": 0,
      "outputs": []
    },
    {
      "cell_type": "code",
      "metadata": {
        "id": "zfGGlFXc6KE2",
        "colab_type": "code",
        "outputId": "9be6dba8-b79f-4e43-8a8c-3daaab025881",
        "colab": {
          "base_uri": "https://localhost:8080/",
          "height": 33
        }
      },
      "source": [
        "from bs4 import BeautifulSoup\n",
        "# parse the raw html string into html object\n",
        "html_soup = BeautifulSoup(response.text, 'html.parser')\n",
        "type(html_soup)"
      ],
      "execution_count": 0,
      "outputs": [
        {
          "output_type": "execute_result",
          "data": {
            "text/plain": [
              "bs4.BeautifulSoup"
            ]
          },
          "metadata": {
            "tags": []
          },
          "execution_count": 4
        }
      ]
    },
    {
      "cell_type": "code",
      "metadata": {
        "id": "nGceovZonNpL",
        "colab_type": "code",
        "outputId": "a91f664e-ba40-45ef-aee2-3ebc7dd216f8",
        "colab": {
          "base_uri": "https://localhost:8080/",
          "height": 184
        }
      },
      "source": [
        "# soup object that contins vote\n",
        "vote_container=html_soup.find_all('div', class_=\"leftAligned\")\n",
        "vote_container[1:11]"
      ],
      "execution_count": 0,
      "outputs": [
        {
          "output_type": "execute_result",
          "data": {
            "text/plain": [
              "[<div class=\"leftAligned\">10,800</div>,\n",
              " <div class=\"leftAligned\">6,987</div>,\n",
              " <div class=\"leftAligned\">12,834</div>,\n",
              " <div class=\"leftAligned\">13,701</div>,\n",
              " <div class=\"leftAligned\">7,333</div>,\n",
              " <div class=\"leftAligned\">3,376</div>,\n",
              " <div class=\"leftAligned\">1,550</div>,\n",
              " <div class=\"leftAligned\">1,057</div>,\n",
              " <div class=\"leftAligned\">796</div>,\n",
              " <div class=\"leftAligned\">2,657</div>]"
            ]
          },
          "metadata": {
            "tags": []
          },
          "execution_count": 5
        }
      ]
    },
    {
      "cell_type": "code",
      "metadata": {
        "id": "okVinjSmnNsE",
        "colab_type": "code",
        "outputId": "c0aa6970-6c6f-4758-dcfa-7454134a21ee",
        "colab": {
          "base_uri": "https://localhost:8080/",
          "height": 184
        }
      },
      "source": [
        "#to get text in the container\n",
        "votes=[container.text for container in vote_container][1:11]\n",
        "votes"
      ],
      "execution_count": 0,
      "outputs": [
        {
          "output_type": "execute_result",
          "data": {
            "text/plain": [
              "['10,800',\n",
              " '6,987',\n",
              " '12,834',\n",
              " '13,701',\n",
              " '7,333',\n",
              " '3,376',\n",
              " '1,550',\n",
              " '1,057',\n",
              " '796',\n",
              " '2,657']"
            ]
          },
          "metadata": {
            "tags": []
          },
          "execution_count": 6
        }
      ]
    },
    {
      "cell_type": "code",
      "metadata": {
        "id": "K--VFPPftfNd",
        "colab_type": "code",
        "colab": {}
      },
      "source": [
        "#to map each string into integer\n",
        "#list(map(int,votes))"
      ],
      "execution_count": 0,
      "outputs": []
    },
    {
      "cell_type": "code",
      "metadata": {
        "id": "9aJTOZpCutAq",
        "colab_type": "code",
        "outputId": "629d7ad9-6630-4e6b-dc68-cbdcfd903287",
        "colab": {
          "base_uri": "https://localhost:8080/",
          "height": 53
        }
      },
      "source": [
        "urls = ['https://www.imdb.com/title/tt6105098/ratings?ref_=tt_ov_rt',     # Lion King (2019)\n",
        "        'https://www.imdb.com/title/tt0110357/ratings?ref_=tt_ov_rt',     # Lion King (1994)\n",
        "        'https://www.imdb.com/title/tt6139732/ratings?ref_=tt_ov_rt',     # Aladdin (2019)\n",
        "        'https://www.imdb.com/title/tt0103639/ratings?ref_=tt_ov_rt']     # Aladdin (1992) w/ Robin Williams\n",
        "\n",
        "\n",
        "votes_list = []\n",
        "for url in urls:\n",
        "    # Get raw HTML response\n",
        "    response = get(url)\n",
        "    \n",
        "    # Convert to BS Object\n",
        "    html_soup = BeautifulSoup(response.text, 'html.parser')\n",
        "    \n",
        "    # Find vote containers and extract star ratings\n",
        "    vote_containers = html_soup.find_all('div', class_ = 'leftAligned')\n",
        "    votes = [containers.text for containers in vote_containers][1:11]\n",
        "        \n",
        "    # Append to initial list\n",
        "    votes_list.append(votes)\n",
        "    \n",
        "print(votes_list)"
      ],
      "execution_count": 0,
      "outputs": [
        {
          "output_type": "stream",
          "text": [
            "[['10,800', '6,987', '12,834', '13,701', '7,333', '3,376', '1,550', '1,057', '796', '2,657'], ['254,764', '219,304', '213,634', '100,753', '33,092', '13,250', '5,343', '3,011', '1,969', '4,956'], ['14,810', '11,786', '22,754', '20,330', '8,634', '3,348', '1,515', '916', '666', '2,397'], ['58,919', '61,240', '111,149', '61,573', '20,592', '7,057', '2,593', '1,199', '689', '1,249']]\n"
          ],
          "name": "stdout"
        }
      ]
    },
    {
      "cell_type": "code",
      "metadata": {
        "id": "_6v5Fd_gvJ6u",
        "colab_type": "code",
        "colab": {}
      },
      "source": [
        "#votes_list1= votes_list.str.replace(',' , '')\n",
        "#votes_list1"
      ],
      "execution_count": 0,
      "outputs": []
    },
    {
      "cell_type": "code",
      "metadata": {
        "id": "6rc2UZxL0BZh",
        "colab_type": "code",
        "outputId": "c155ebbc-5753-40e0-a393-9198cf969710",
        "colab": {
          "base_uri": "https://localhost:8080/",
          "height": 166
        }
      },
      "source": [
        "import pandas as pd\n",
        "\n",
        "movies = ['The Lion King (2019)', 'The Lion King (1994)', 'Aladdin (2019)', 'Aladdin (1992)']\n",
        "\n",
        "df = pd.DataFrame(votes_list)\n",
        "df "
      ],
      "execution_count": 0,
      "outputs": [
        {
          "output_type": "execute_result",
          "data": {
            "text/html": [
              "<div>\n",
              "<style scoped>\n",
              "    .dataframe tbody tr th:only-of-type {\n",
              "        vertical-align: middle;\n",
              "    }\n",
              "\n",
              "    .dataframe tbody tr th {\n",
              "        vertical-align: top;\n",
              "    }\n",
              "\n",
              "    .dataframe thead th {\n",
              "        text-align: right;\n",
              "    }\n",
              "</style>\n",
              "<table border=\"1\" class=\"dataframe\">\n",
              "  <thead>\n",
              "    <tr style=\"text-align: right;\">\n",
              "      <th></th>\n",
              "      <th>0</th>\n",
              "      <th>1</th>\n",
              "      <th>2</th>\n",
              "      <th>3</th>\n",
              "      <th>4</th>\n",
              "      <th>5</th>\n",
              "      <th>6</th>\n",
              "      <th>7</th>\n",
              "      <th>8</th>\n",
              "      <th>9</th>\n",
              "    </tr>\n",
              "  </thead>\n",
              "  <tbody>\n",
              "    <tr>\n",
              "      <th>0</th>\n",
              "      <td>10,800</td>\n",
              "      <td>6,987</td>\n",
              "      <td>12,834</td>\n",
              "      <td>13,701</td>\n",
              "      <td>7,333</td>\n",
              "      <td>3,376</td>\n",
              "      <td>1,550</td>\n",
              "      <td>1,057</td>\n",
              "      <td>796</td>\n",
              "      <td>2,657</td>\n",
              "    </tr>\n",
              "    <tr>\n",
              "      <th>1</th>\n",
              "      <td>254,764</td>\n",
              "      <td>219,304</td>\n",
              "      <td>213,634</td>\n",
              "      <td>100,753</td>\n",
              "      <td>33,092</td>\n",
              "      <td>13,250</td>\n",
              "      <td>5,343</td>\n",
              "      <td>3,011</td>\n",
              "      <td>1,969</td>\n",
              "      <td>4,956</td>\n",
              "    </tr>\n",
              "    <tr>\n",
              "      <th>2</th>\n",
              "      <td>14,810</td>\n",
              "      <td>11,786</td>\n",
              "      <td>22,754</td>\n",
              "      <td>20,330</td>\n",
              "      <td>8,634</td>\n",
              "      <td>3,348</td>\n",
              "      <td>1,515</td>\n",
              "      <td>916</td>\n",
              "      <td>666</td>\n",
              "      <td>2,397</td>\n",
              "    </tr>\n",
              "    <tr>\n",
              "      <th>3</th>\n",
              "      <td>58,919</td>\n",
              "      <td>61,240</td>\n",
              "      <td>111,149</td>\n",
              "      <td>61,573</td>\n",
              "      <td>20,592</td>\n",
              "      <td>7,057</td>\n",
              "      <td>2,593</td>\n",
              "      <td>1,199</td>\n",
              "      <td>689</td>\n",
              "      <td>1,249</td>\n",
              "    </tr>\n",
              "  </tbody>\n",
              "</table>\n",
              "</div>"
            ],
            "text/plain": [
              "         0        1        2        3  ...      6      7      8      9\n",
              "0   10,800    6,987   12,834   13,701  ...  1,550  1,057    796  2,657\n",
              "1  254,764  219,304  213,634  100,753  ...  5,343  3,011  1,969  4,956\n",
              "2   14,810   11,786   22,754   20,330  ...  1,515    916    666  2,397\n",
              "3   58,919   61,240  111,149   61,573  ...  2,593  1,199    689  1,249\n",
              "\n",
              "[4 rows x 10 columns]"
            ]
          },
          "metadata": {
            "tags": []
          },
          "execution_count": 10
        }
      ]
    },
    {
      "cell_type": "code",
      "metadata": {
        "id": "7Zi7aacJ0I_4",
        "colab_type": "code",
        "outputId": "461abcbe-f3f0-474b-813d-72fdb584d0ec",
        "colab": {
          "base_uri": "https://localhost:8080/",
          "height": 345
        }
      },
      "source": [
        "df=df.T\n",
        "df"
      ],
      "execution_count": 0,
      "outputs": [
        {
          "output_type": "execute_result",
          "data": {
            "text/html": [
              "<div>\n",
              "<style scoped>\n",
              "    .dataframe tbody tr th:only-of-type {\n",
              "        vertical-align: middle;\n",
              "    }\n",
              "\n",
              "    .dataframe tbody tr th {\n",
              "        vertical-align: top;\n",
              "    }\n",
              "\n",
              "    .dataframe thead th {\n",
              "        text-align: right;\n",
              "    }\n",
              "</style>\n",
              "<table border=\"1\" class=\"dataframe\">\n",
              "  <thead>\n",
              "    <tr style=\"text-align: right;\">\n",
              "      <th></th>\n",
              "      <th>0</th>\n",
              "      <th>1</th>\n",
              "      <th>2</th>\n",
              "      <th>3</th>\n",
              "    </tr>\n",
              "  </thead>\n",
              "  <tbody>\n",
              "    <tr>\n",
              "      <th>0</th>\n",
              "      <td>10,800</td>\n",
              "      <td>254,764</td>\n",
              "      <td>14,810</td>\n",
              "      <td>58,919</td>\n",
              "    </tr>\n",
              "    <tr>\n",
              "      <th>1</th>\n",
              "      <td>6,987</td>\n",
              "      <td>219,304</td>\n",
              "      <td>11,786</td>\n",
              "      <td>61,240</td>\n",
              "    </tr>\n",
              "    <tr>\n",
              "      <th>2</th>\n",
              "      <td>12,834</td>\n",
              "      <td>213,634</td>\n",
              "      <td>22,754</td>\n",
              "      <td>111,149</td>\n",
              "    </tr>\n",
              "    <tr>\n",
              "      <th>3</th>\n",
              "      <td>13,701</td>\n",
              "      <td>100,753</td>\n",
              "      <td>20,330</td>\n",
              "      <td>61,573</td>\n",
              "    </tr>\n",
              "    <tr>\n",
              "      <th>4</th>\n",
              "      <td>7,333</td>\n",
              "      <td>33,092</td>\n",
              "      <td>8,634</td>\n",
              "      <td>20,592</td>\n",
              "    </tr>\n",
              "    <tr>\n",
              "      <th>5</th>\n",
              "      <td>3,376</td>\n",
              "      <td>13,250</td>\n",
              "      <td>3,348</td>\n",
              "      <td>7,057</td>\n",
              "    </tr>\n",
              "    <tr>\n",
              "      <th>6</th>\n",
              "      <td>1,550</td>\n",
              "      <td>5,343</td>\n",
              "      <td>1,515</td>\n",
              "      <td>2,593</td>\n",
              "    </tr>\n",
              "    <tr>\n",
              "      <th>7</th>\n",
              "      <td>1,057</td>\n",
              "      <td>3,011</td>\n",
              "      <td>916</td>\n",
              "      <td>1,199</td>\n",
              "    </tr>\n",
              "    <tr>\n",
              "      <th>8</th>\n",
              "      <td>796</td>\n",
              "      <td>1,969</td>\n",
              "      <td>666</td>\n",
              "      <td>689</td>\n",
              "    </tr>\n",
              "    <tr>\n",
              "      <th>9</th>\n",
              "      <td>2,657</td>\n",
              "      <td>4,956</td>\n",
              "      <td>2,397</td>\n",
              "      <td>1,249</td>\n",
              "    </tr>\n",
              "  </tbody>\n",
              "</table>\n",
              "</div>"
            ],
            "text/plain": [
              "        0        1       2        3\n",
              "0  10,800  254,764  14,810   58,919\n",
              "1   6,987  219,304  11,786   61,240\n",
              "2  12,834  213,634  22,754  111,149\n",
              "3  13,701  100,753  20,330   61,573\n",
              "4   7,333   33,092   8,634   20,592\n",
              "5   3,376   13,250   3,348    7,057\n",
              "6   1,550    5,343   1,515    2,593\n",
              "7   1,057    3,011     916    1,199\n",
              "8     796    1,969     666      689\n",
              "9   2,657    4,956   2,397    1,249"
            ]
          },
          "metadata": {
            "tags": []
          },
          "execution_count": 11
        }
      ]
    },
    {
      "cell_type": "code",
      "metadata": {
        "id": "XGnotsB30fna",
        "colab_type": "code",
        "outputId": "7a7c5a83-02d6-4430-98f5-0e6894c512d3",
        "colab": {
          "base_uri": "https://localhost:8080/",
          "height": 345
        }
      },
      "source": [
        "df.columns=movies\n",
        "df"
      ],
      "execution_count": 0,
      "outputs": [
        {
          "output_type": "execute_result",
          "data": {
            "text/html": [
              "<div>\n",
              "<style scoped>\n",
              "    .dataframe tbody tr th:only-of-type {\n",
              "        vertical-align: middle;\n",
              "    }\n",
              "\n",
              "    .dataframe tbody tr th {\n",
              "        vertical-align: top;\n",
              "    }\n",
              "\n",
              "    .dataframe thead th {\n",
              "        text-align: right;\n",
              "    }\n",
              "</style>\n",
              "<table border=\"1\" class=\"dataframe\">\n",
              "  <thead>\n",
              "    <tr style=\"text-align: right;\">\n",
              "      <th></th>\n",
              "      <th>The Lion King (2019)</th>\n",
              "      <th>The Lion King (1994)</th>\n",
              "      <th>Aladdin (2019)</th>\n",
              "      <th>Aladdin (1992)</th>\n",
              "    </tr>\n",
              "  </thead>\n",
              "  <tbody>\n",
              "    <tr>\n",
              "      <th>0</th>\n",
              "      <td>10,800</td>\n",
              "      <td>254,764</td>\n",
              "      <td>14,810</td>\n",
              "      <td>58,919</td>\n",
              "    </tr>\n",
              "    <tr>\n",
              "      <th>1</th>\n",
              "      <td>6,987</td>\n",
              "      <td>219,304</td>\n",
              "      <td>11,786</td>\n",
              "      <td>61,240</td>\n",
              "    </tr>\n",
              "    <tr>\n",
              "      <th>2</th>\n",
              "      <td>12,834</td>\n",
              "      <td>213,634</td>\n",
              "      <td>22,754</td>\n",
              "      <td>111,149</td>\n",
              "    </tr>\n",
              "    <tr>\n",
              "      <th>3</th>\n",
              "      <td>13,701</td>\n",
              "      <td>100,753</td>\n",
              "      <td>20,330</td>\n",
              "      <td>61,573</td>\n",
              "    </tr>\n",
              "    <tr>\n",
              "      <th>4</th>\n",
              "      <td>7,333</td>\n",
              "      <td>33,092</td>\n",
              "      <td>8,634</td>\n",
              "      <td>20,592</td>\n",
              "    </tr>\n",
              "    <tr>\n",
              "      <th>5</th>\n",
              "      <td>3,376</td>\n",
              "      <td>13,250</td>\n",
              "      <td>3,348</td>\n",
              "      <td>7,057</td>\n",
              "    </tr>\n",
              "    <tr>\n",
              "      <th>6</th>\n",
              "      <td>1,550</td>\n",
              "      <td>5,343</td>\n",
              "      <td>1,515</td>\n",
              "      <td>2,593</td>\n",
              "    </tr>\n",
              "    <tr>\n",
              "      <th>7</th>\n",
              "      <td>1,057</td>\n",
              "      <td>3,011</td>\n",
              "      <td>916</td>\n",
              "      <td>1,199</td>\n",
              "    </tr>\n",
              "    <tr>\n",
              "      <th>8</th>\n",
              "      <td>796</td>\n",
              "      <td>1,969</td>\n",
              "      <td>666</td>\n",
              "      <td>689</td>\n",
              "    </tr>\n",
              "    <tr>\n",
              "      <th>9</th>\n",
              "      <td>2,657</td>\n",
              "      <td>4,956</td>\n",
              "      <td>2,397</td>\n",
              "      <td>1,249</td>\n",
              "    </tr>\n",
              "  </tbody>\n",
              "</table>\n",
              "</div>"
            ],
            "text/plain": [
              "  The Lion King (2019) The Lion King (1994) Aladdin (2019) Aladdin (1992)\n",
              "0               10,800              254,764         14,810         58,919\n",
              "1                6,987              219,304         11,786         61,240\n",
              "2               12,834              213,634         22,754        111,149\n",
              "3               13,701              100,753         20,330         61,573\n",
              "4                7,333               33,092          8,634         20,592\n",
              "5                3,376               13,250          3,348          7,057\n",
              "6                1,550                5,343          1,515          2,593\n",
              "7                1,057                3,011            916          1,199\n",
              "8                  796                1,969            666            689\n",
              "9                2,657                4,956          2,397          1,249"
            ]
          },
          "metadata": {
            "tags": []
          },
          "execution_count": 12
        }
      ]
    },
    {
      "cell_type": "code",
      "metadata": {
        "id": "nW7ZKaQAzf6m",
        "colab_type": "code",
        "outputId": "0c35b2ad-efda-4b70-9d58-ac107e188951",
        "colab": {
          "base_uri": "https://localhost:8080/",
          "height": 345
        }
      },
      "source": [
        "import pandas as pd\n",
        "\n",
        "movies = ['The Lion King (2019)', 'The Lion King (1994)', 'Aladdin (2019)', 'Aladdin (1992)']\n",
        "\n",
        "df = pd.DataFrame(votes_list)\n",
        "df = df.T\n",
        "df.columns = movies\n",
        "df = df.apply(lambda x: x.str.replace(',',''))\n",
        "df['Star Rating'] = range(1,11)[::-1]\n",
        "df"
      ],
      "execution_count": 0,
      "outputs": [
        {
          "output_type": "execute_result",
          "data": {
            "text/html": [
              "<div>\n",
              "<style scoped>\n",
              "    .dataframe tbody tr th:only-of-type {\n",
              "        vertical-align: middle;\n",
              "    }\n",
              "\n",
              "    .dataframe tbody tr th {\n",
              "        vertical-align: top;\n",
              "    }\n",
              "\n",
              "    .dataframe thead th {\n",
              "        text-align: right;\n",
              "    }\n",
              "</style>\n",
              "<table border=\"1\" class=\"dataframe\">\n",
              "  <thead>\n",
              "    <tr style=\"text-align: right;\">\n",
              "      <th></th>\n",
              "      <th>The Lion King (2019)</th>\n",
              "      <th>The Lion King (1994)</th>\n",
              "      <th>Aladdin (2019)</th>\n",
              "      <th>Aladdin (1992)</th>\n",
              "      <th>Star Rating</th>\n",
              "    </tr>\n",
              "  </thead>\n",
              "  <tbody>\n",
              "    <tr>\n",
              "      <th>0</th>\n",
              "      <td>10800</td>\n",
              "      <td>254764</td>\n",
              "      <td>14810</td>\n",
              "      <td>58919</td>\n",
              "      <td>10</td>\n",
              "    </tr>\n",
              "    <tr>\n",
              "      <th>1</th>\n",
              "      <td>6987</td>\n",
              "      <td>219304</td>\n",
              "      <td>11786</td>\n",
              "      <td>61240</td>\n",
              "      <td>9</td>\n",
              "    </tr>\n",
              "    <tr>\n",
              "      <th>2</th>\n",
              "      <td>12834</td>\n",
              "      <td>213634</td>\n",
              "      <td>22754</td>\n",
              "      <td>111149</td>\n",
              "      <td>8</td>\n",
              "    </tr>\n",
              "    <tr>\n",
              "      <th>3</th>\n",
              "      <td>13701</td>\n",
              "      <td>100753</td>\n",
              "      <td>20330</td>\n",
              "      <td>61573</td>\n",
              "      <td>7</td>\n",
              "    </tr>\n",
              "    <tr>\n",
              "      <th>4</th>\n",
              "      <td>7333</td>\n",
              "      <td>33092</td>\n",
              "      <td>8634</td>\n",
              "      <td>20592</td>\n",
              "      <td>6</td>\n",
              "    </tr>\n",
              "    <tr>\n",
              "      <th>5</th>\n",
              "      <td>3376</td>\n",
              "      <td>13250</td>\n",
              "      <td>3348</td>\n",
              "      <td>7057</td>\n",
              "      <td>5</td>\n",
              "    </tr>\n",
              "    <tr>\n",
              "      <th>6</th>\n",
              "      <td>1550</td>\n",
              "      <td>5343</td>\n",
              "      <td>1515</td>\n",
              "      <td>2593</td>\n",
              "      <td>4</td>\n",
              "    </tr>\n",
              "    <tr>\n",
              "      <th>7</th>\n",
              "      <td>1057</td>\n",
              "      <td>3011</td>\n",
              "      <td>916</td>\n",
              "      <td>1199</td>\n",
              "      <td>3</td>\n",
              "    </tr>\n",
              "    <tr>\n",
              "      <th>8</th>\n",
              "      <td>796</td>\n",
              "      <td>1969</td>\n",
              "      <td>666</td>\n",
              "      <td>689</td>\n",
              "      <td>2</td>\n",
              "    </tr>\n",
              "    <tr>\n",
              "      <th>9</th>\n",
              "      <td>2657</td>\n",
              "      <td>4956</td>\n",
              "      <td>2397</td>\n",
              "      <td>1249</td>\n",
              "      <td>1</td>\n",
              "    </tr>\n",
              "  </tbody>\n",
              "</table>\n",
              "</div>"
            ],
            "text/plain": [
              "  The Lion King (2019) The Lion King (1994)  ... Aladdin (1992) Star Rating\n",
              "0                10800               254764  ...          58919          10\n",
              "1                 6987               219304  ...          61240           9\n",
              "2                12834               213634  ...         111149           8\n",
              "3                13701               100753  ...          61573           7\n",
              "4                 7333                33092  ...          20592           6\n",
              "5                 3376                13250  ...           7057           5\n",
              "6                 1550                 5343  ...           2593           4\n",
              "7                 1057                 3011  ...           1199           3\n",
              "8                  796                 1969  ...            689           2\n",
              "9                 2657                 4956  ...           1249           1\n",
              "\n",
              "[10 rows x 5 columns]"
            ]
          },
          "metadata": {
            "tags": []
          },
          "execution_count": 13
        }
      ]
    },
    {
      "cell_type": "code",
      "metadata": {
        "id": "JOxUl_2Dzf9n",
        "colab_type": "code",
        "outputId": "6ab604b2-a986-4a41-af00-f9c7e465fca4",
        "colab": {
          "base_uri": "https://localhost:8080/",
          "height": 1000
        }
      },
      "source": [
        "# convert df into tidy format\n",
        "df_tidy=df.melt(id_vars='Star Rating')\n",
        "df_tidy=df_tidy.rename(columns={'variable': 'movies','value':'no of votes'})\n",
        "df_tidy\n"
      ],
      "execution_count": 0,
      "outputs": [
        {
          "output_type": "execute_result",
          "data": {
            "text/html": [
              "<div>\n",
              "<style scoped>\n",
              "    .dataframe tbody tr th:only-of-type {\n",
              "        vertical-align: middle;\n",
              "    }\n",
              "\n",
              "    .dataframe tbody tr th {\n",
              "        vertical-align: top;\n",
              "    }\n",
              "\n",
              "    .dataframe thead th {\n",
              "        text-align: right;\n",
              "    }\n",
              "</style>\n",
              "<table border=\"1\" class=\"dataframe\">\n",
              "  <thead>\n",
              "    <tr style=\"text-align: right;\">\n",
              "      <th></th>\n",
              "      <th>Star Rating</th>\n",
              "      <th>movies</th>\n",
              "      <th>no of votes</th>\n",
              "    </tr>\n",
              "  </thead>\n",
              "  <tbody>\n",
              "    <tr>\n",
              "      <th>0</th>\n",
              "      <td>10</td>\n",
              "      <td>The Lion King (2019)</td>\n",
              "      <td>10800</td>\n",
              "    </tr>\n",
              "    <tr>\n",
              "      <th>1</th>\n",
              "      <td>9</td>\n",
              "      <td>The Lion King (2019)</td>\n",
              "      <td>6987</td>\n",
              "    </tr>\n",
              "    <tr>\n",
              "      <th>2</th>\n",
              "      <td>8</td>\n",
              "      <td>The Lion King (2019)</td>\n",
              "      <td>12834</td>\n",
              "    </tr>\n",
              "    <tr>\n",
              "      <th>3</th>\n",
              "      <td>7</td>\n",
              "      <td>The Lion King (2019)</td>\n",
              "      <td>13701</td>\n",
              "    </tr>\n",
              "    <tr>\n",
              "      <th>4</th>\n",
              "      <td>6</td>\n",
              "      <td>The Lion King (2019)</td>\n",
              "      <td>7333</td>\n",
              "    </tr>\n",
              "    <tr>\n",
              "      <th>5</th>\n",
              "      <td>5</td>\n",
              "      <td>The Lion King (2019)</td>\n",
              "      <td>3376</td>\n",
              "    </tr>\n",
              "    <tr>\n",
              "      <th>6</th>\n",
              "      <td>4</td>\n",
              "      <td>The Lion King (2019)</td>\n",
              "      <td>1550</td>\n",
              "    </tr>\n",
              "    <tr>\n",
              "      <th>7</th>\n",
              "      <td>3</td>\n",
              "      <td>The Lion King (2019)</td>\n",
              "      <td>1057</td>\n",
              "    </tr>\n",
              "    <tr>\n",
              "      <th>8</th>\n",
              "      <td>2</td>\n",
              "      <td>The Lion King (2019)</td>\n",
              "      <td>796</td>\n",
              "    </tr>\n",
              "    <tr>\n",
              "      <th>9</th>\n",
              "      <td>1</td>\n",
              "      <td>The Lion King (2019)</td>\n",
              "      <td>2657</td>\n",
              "    </tr>\n",
              "    <tr>\n",
              "      <th>10</th>\n",
              "      <td>10</td>\n",
              "      <td>The Lion King (1994)</td>\n",
              "      <td>254764</td>\n",
              "    </tr>\n",
              "    <tr>\n",
              "      <th>11</th>\n",
              "      <td>9</td>\n",
              "      <td>The Lion King (1994)</td>\n",
              "      <td>219304</td>\n",
              "    </tr>\n",
              "    <tr>\n",
              "      <th>12</th>\n",
              "      <td>8</td>\n",
              "      <td>The Lion King (1994)</td>\n",
              "      <td>213634</td>\n",
              "    </tr>\n",
              "    <tr>\n",
              "      <th>13</th>\n",
              "      <td>7</td>\n",
              "      <td>The Lion King (1994)</td>\n",
              "      <td>100753</td>\n",
              "    </tr>\n",
              "    <tr>\n",
              "      <th>14</th>\n",
              "      <td>6</td>\n",
              "      <td>The Lion King (1994)</td>\n",
              "      <td>33092</td>\n",
              "    </tr>\n",
              "    <tr>\n",
              "      <th>15</th>\n",
              "      <td>5</td>\n",
              "      <td>The Lion King (1994)</td>\n",
              "      <td>13250</td>\n",
              "    </tr>\n",
              "    <tr>\n",
              "      <th>16</th>\n",
              "      <td>4</td>\n",
              "      <td>The Lion King (1994)</td>\n",
              "      <td>5343</td>\n",
              "    </tr>\n",
              "    <tr>\n",
              "      <th>17</th>\n",
              "      <td>3</td>\n",
              "      <td>The Lion King (1994)</td>\n",
              "      <td>3011</td>\n",
              "    </tr>\n",
              "    <tr>\n",
              "      <th>18</th>\n",
              "      <td>2</td>\n",
              "      <td>The Lion King (1994)</td>\n",
              "      <td>1969</td>\n",
              "    </tr>\n",
              "    <tr>\n",
              "      <th>19</th>\n",
              "      <td>1</td>\n",
              "      <td>The Lion King (1994)</td>\n",
              "      <td>4956</td>\n",
              "    </tr>\n",
              "    <tr>\n",
              "      <th>20</th>\n",
              "      <td>10</td>\n",
              "      <td>Aladdin (2019)</td>\n",
              "      <td>14810</td>\n",
              "    </tr>\n",
              "    <tr>\n",
              "      <th>21</th>\n",
              "      <td>9</td>\n",
              "      <td>Aladdin (2019)</td>\n",
              "      <td>11786</td>\n",
              "    </tr>\n",
              "    <tr>\n",
              "      <th>22</th>\n",
              "      <td>8</td>\n",
              "      <td>Aladdin (2019)</td>\n",
              "      <td>22754</td>\n",
              "    </tr>\n",
              "    <tr>\n",
              "      <th>23</th>\n",
              "      <td>7</td>\n",
              "      <td>Aladdin (2019)</td>\n",
              "      <td>20330</td>\n",
              "    </tr>\n",
              "    <tr>\n",
              "      <th>24</th>\n",
              "      <td>6</td>\n",
              "      <td>Aladdin (2019)</td>\n",
              "      <td>8634</td>\n",
              "    </tr>\n",
              "    <tr>\n",
              "      <th>25</th>\n",
              "      <td>5</td>\n",
              "      <td>Aladdin (2019)</td>\n",
              "      <td>3348</td>\n",
              "    </tr>\n",
              "    <tr>\n",
              "      <th>26</th>\n",
              "      <td>4</td>\n",
              "      <td>Aladdin (2019)</td>\n",
              "      <td>1515</td>\n",
              "    </tr>\n",
              "    <tr>\n",
              "      <th>27</th>\n",
              "      <td>3</td>\n",
              "      <td>Aladdin (2019)</td>\n",
              "      <td>916</td>\n",
              "    </tr>\n",
              "    <tr>\n",
              "      <th>28</th>\n",
              "      <td>2</td>\n",
              "      <td>Aladdin (2019)</td>\n",
              "      <td>666</td>\n",
              "    </tr>\n",
              "    <tr>\n",
              "      <th>29</th>\n",
              "      <td>1</td>\n",
              "      <td>Aladdin (2019)</td>\n",
              "      <td>2397</td>\n",
              "    </tr>\n",
              "    <tr>\n",
              "      <th>30</th>\n",
              "      <td>10</td>\n",
              "      <td>Aladdin (1992)</td>\n",
              "      <td>58919</td>\n",
              "    </tr>\n",
              "    <tr>\n",
              "      <th>31</th>\n",
              "      <td>9</td>\n",
              "      <td>Aladdin (1992)</td>\n",
              "      <td>61240</td>\n",
              "    </tr>\n",
              "    <tr>\n",
              "      <th>32</th>\n",
              "      <td>8</td>\n",
              "      <td>Aladdin (1992)</td>\n",
              "      <td>111149</td>\n",
              "    </tr>\n",
              "    <tr>\n",
              "      <th>33</th>\n",
              "      <td>7</td>\n",
              "      <td>Aladdin (1992)</td>\n",
              "      <td>61573</td>\n",
              "    </tr>\n",
              "    <tr>\n",
              "      <th>34</th>\n",
              "      <td>6</td>\n",
              "      <td>Aladdin (1992)</td>\n",
              "      <td>20592</td>\n",
              "    </tr>\n",
              "    <tr>\n",
              "      <th>35</th>\n",
              "      <td>5</td>\n",
              "      <td>Aladdin (1992)</td>\n",
              "      <td>7057</td>\n",
              "    </tr>\n",
              "    <tr>\n",
              "      <th>36</th>\n",
              "      <td>4</td>\n",
              "      <td>Aladdin (1992)</td>\n",
              "      <td>2593</td>\n",
              "    </tr>\n",
              "    <tr>\n",
              "      <th>37</th>\n",
              "      <td>3</td>\n",
              "      <td>Aladdin (1992)</td>\n",
              "      <td>1199</td>\n",
              "    </tr>\n",
              "    <tr>\n",
              "      <th>38</th>\n",
              "      <td>2</td>\n",
              "      <td>Aladdin (1992)</td>\n",
              "      <td>689</td>\n",
              "    </tr>\n",
              "    <tr>\n",
              "      <th>39</th>\n",
              "      <td>1</td>\n",
              "      <td>Aladdin (1992)</td>\n",
              "      <td>1249</td>\n",
              "    </tr>\n",
              "  </tbody>\n",
              "</table>\n",
              "</div>"
            ],
            "text/plain": [
              "    Star Rating                movies no of votes\n",
              "0            10  The Lion King (2019)       10800\n",
              "1             9  The Lion King (2019)        6987\n",
              "2             8  The Lion King (2019)       12834\n",
              "3             7  The Lion King (2019)       13701\n",
              "4             6  The Lion King (2019)        7333\n",
              "5             5  The Lion King (2019)        3376\n",
              "6             4  The Lion King (2019)        1550\n",
              "7             3  The Lion King (2019)        1057\n",
              "8             2  The Lion King (2019)         796\n",
              "9             1  The Lion King (2019)        2657\n",
              "10           10  The Lion King (1994)      254764\n",
              "11            9  The Lion King (1994)      219304\n",
              "12            8  The Lion King (1994)      213634\n",
              "13            7  The Lion King (1994)      100753\n",
              "14            6  The Lion King (1994)       33092\n",
              "15            5  The Lion King (1994)       13250\n",
              "16            4  The Lion King (1994)        5343\n",
              "17            3  The Lion King (1994)        3011\n",
              "18            2  The Lion King (1994)        1969\n",
              "19            1  The Lion King (1994)        4956\n",
              "20           10        Aladdin (2019)       14810\n",
              "21            9        Aladdin (2019)       11786\n",
              "22            8        Aladdin (2019)       22754\n",
              "23            7        Aladdin (2019)       20330\n",
              "24            6        Aladdin (2019)        8634\n",
              "25            5        Aladdin (2019)        3348\n",
              "26            4        Aladdin (2019)        1515\n",
              "27            3        Aladdin (2019)         916\n",
              "28            2        Aladdin (2019)         666\n",
              "29            1        Aladdin (2019)        2397\n",
              "30           10        Aladdin (1992)       58919\n",
              "31            9        Aladdin (1992)       61240\n",
              "32            8        Aladdin (1992)      111149\n",
              "33            7        Aladdin (1992)       61573\n",
              "34            6        Aladdin (1992)       20592\n",
              "35            5        Aladdin (1992)        7057\n",
              "36            4        Aladdin (1992)        2593\n",
              "37            3        Aladdin (1992)        1199\n",
              "38            2        Aladdin (1992)         689\n",
              "39            1        Aladdin (1992)        1249"
            ]
          },
          "metadata": {
            "tags": []
          },
          "execution_count": 14
        }
      ]
    },
    {
      "cell_type": "code",
      "metadata": {
        "id": "5TACM1O9pesO",
        "colab_type": "code",
        "outputId": "ce965e21-1137-4417-ec52-1b35ebb0a794",
        "colab": {
          "base_uri": "https://localhost:8080/",
          "height": 150
        }
      },
      "source": [
        "df_tidy.info()"
      ],
      "execution_count": 0,
      "outputs": [
        {
          "output_type": "stream",
          "text": [
            "<class 'pandas.core.frame.DataFrame'>\n",
            "RangeIndex: 40 entries, 0 to 39\n",
            "Data columns (total 3 columns):\n",
            "Star Rating    40 non-null int64\n",
            "movies         40 non-null object\n",
            "no of votes    40 non-null object\n",
            "dtypes: int64(1), object(2)\n",
            "memory usage: 1.0+ KB\n"
          ],
          "name": "stdout"
        }
      ]
    },
    {
      "cell_type": "code",
      "metadata": {
        "id": "_vJd7t4QpeuT",
        "colab_type": "code",
        "outputId": "fd9d808a-d915-4086-ad5b-bf9ad78b8246",
        "colab": {
          "base_uri": "https://localhost:8080/",
          "height": 1000
        }
      },
      "source": [
        "df_tidy['no of votes']=pd.to_numeric(df_tidy['no of votes'])\n",
        "df_tidy"
      ],
      "execution_count": 0,
      "outputs": [
        {
          "output_type": "execute_result",
          "data": {
            "text/html": [
              "<div>\n",
              "<style scoped>\n",
              "    .dataframe tbody tr th:only-of-type {\n",
              "        vertical-align: middle;\n",
              "    }\n",
              "\n",
              "    .dataframe tbody tr th {\n",
              "        vertical-align: top;\n",
              "    }\n",
              "\n",
              "    .dataframe thead th {\n",
              "        text-align: right;\n",
              "    }\n",
              "</style>\n",
              "<table border=\"1\" class=\"dataframe\">\n",
              "  <thead>\n",
              "    <tr style=\"text-align: right;\">\n",
              "      <th></th>\n",
              "      <th>Star Rating</th>\n",
              "      <th>movies</th>\n",
              "      <th>no of votes</th>\n",
              "    </tr>\n",
              "  </thead>\n",
              "  <tbody>\n",
              "    <tr>\n",
              "      <th>0</th>\n",
              "      <td>10</td>\n",
              "      <td>The Lion King (2019)</td>\n",
              "      <td>10800</td>\n",
              "    </tr>\n",
              "    <tr>\n",
              "      <th>1</th>\n",
              "      <td>9</td>\n",
              "      <td>The Lion King (2019)</td>\n",
              "      <td>6987</td>\n",
              "    </tr>\n",
              "    <tr>\n",
              "      <th>2</th>\n",
              "      <td>8</td>\n",
              "      <td>The Lion King (2019)</td>\n",
              "      <td>12834</td>\n",
              "    </tr>\n",
              "    <tr>\n",
              "      <th>3</th>\n",
              "      <td>7</td>\n",
              "      <td>The Lion King (2019)</td>\n",
              "      <td>13701</td>\n",
              "    </tr>\n",
              "    <tr>\n",
              "      <th>4</th>\n",
              "      <td>6</td>\n",
              "      <td>The Lion King (2019)</td>\n",
              "      <td>7333</td>\n",
              "    </tr>\n",
              "    <tr>\n",
              "      <th>5</th>\n",
              "      <td>5</td>\n",
              "      <td>The Lion King (2019)</td>\n",
              "      <td>3376</td>\n",
              "    </tr>\n",
              "    <tr>\n",
              "      <th>6</th>\n",
              "      <td>4</td>\n",
              "      <td>The Lion King (2019)</td>\n",
              "      <td>1550</td>\n",
              "    </tr>\n",
              "    <tr>\n",
              "      <th>7</th>\n",
              "      <td>3</td>\n",
              "      <td>The Lion King (2019)</td>\n",
              "      <td>1057</td>\n",
              "    </tr>\n",
              "    <tr>\n",
              "      <th>8</th>\n",
              "      <td>2</td>\n",
              "      <td>The Lion King (2019)</td>\n",
              "      <td>796</td>\n",
              "    </tr>\n",
              "    <tr>\n",
              "      <th>9</th>\n",
              "      <td>1</td>\n",
              "      <td>The Lion King (2019)</td>\n",
              "      <td>2657</td>\n",
              "    </tr>\n",
              "    <tr>\n",
              "      <th>10</th>\n",
              "      <td>10</td>\n",
              "      <td>The Lion King (1994)</td>\n",
              "      <td>254764</td>\n",
              "    </tr>\n",
              "    <tr>\n",
              "      <th>11</th>\n",
              "      <td>9</td>\n",
              "      <td>The Lion King (1994)</td>\n",
              "      <td>219304</td>\n",
              "    </tr>\n",
              "    <tr>\n",
              "      <th>12</th>\n",
              "      <td>8</td>\n",
              "      <td>The Lion King (1994)</td>\n",
              "      <td>213634</td>\n",
              "    </tr>\n",
              "    <tr>\n",
              "      <th>13</th>\n",
              "      <td>7</td>\n",
              "      <td>The Lion King (1994)</td>\n",
              "      <td>100753</td>\n",
              "    </tr>\n",
              "    <tr>\n",
              "      <th>14</th>\n",
              "      <td>6</td>\n",
              "      <td>The Lion King (1994)</td>\n",
              "      <td>33092</td>\n",
              "    </tr>\n",
              "    <tr>\n",
              "      <th>15</th>\n",
              "      <td>5</td>\n",
              "      <td>The Lion King (1994)</td>\n",
              "      <td>13250</td>\n",
              "    </tr>\n",
              "    <tr>\n",
              "      <th>16</th>\n",
              "      <td>4</td>\n",
              "      <td>The Lion King (1994)</td>\n",
              "      <td>5343</td>\n",
              "    </tr>\n",
              "    <tr>\n",
              "      <th>17</th>\n",
              "      <td>3</td>\n",
              "      <td>The Lion King (1994)</td>\n",
              "      <td>3011</td>\n",
              "    </tr>\n",
              "    <tr>\n",
              "      <th>18</th>\n",
              "      <td>2</td>\n",
              "      <td>The Lion King (1994)</td>\n",
              "      <td>1969</td>\n",
              "    </tr>\n",
              "    <tr>\n",
              "      <th>19</th>\n",
              "      <td>1</td>\n",
              "      <td>The Lion King (1994)</td>\n",
              "      <td>4956</td>\n",
              "    </tr>\n",
              "    <tr>\n",
              "      <th>20</th>\n",
              "      <td>10</td>\n",
              "      <td>Aladdin (2019)</td>\n",
              "      <td>14810</td>\n",
              "    </tr>\n",
              "    <tr>\n",
              "      <th>21</th>\n",
              "      <td>9</td>\n",
              "      <td>Aladdin (2019)</td>\n",
              "      <td>11786</td>\n",
              "    </tr>\n",
              "    <tr>\n",
              "      <th>22</th>\n",
              "      <td>8</td>\n",
              "      <td>Aladdin (2019)</td>\n",
              "      <td>22754</td>\n",
              "    </tr>\n",
              "    <tr>\n",
              "      <th>23</th>\n",
              "      <td>7</td>\n",
              "      <td>Aladdin (2019)</td>\n",
              "      <td>20330</td>\n",
              "    </tr>\n",
              "    <tr>\n",
              "      <th>24</th>\n",
              "      <td>6</td>\n",
              "      <td>Aladdin (2019)</td>\n",
              "      <td>8634</td>\n",
              "    </tr>\n",
              "    <tr>\n",
              "      <th>25</th>\n",
              "      <td>5</td>\n",
              "      <td>Aladdin (2019)</td>\n",
              "      <td>3348</td>\n",
              "    </tr>\n",
              "    <tr>\n",
              "      <th>26</th>\n",
              "      <td>4</td>\n",
              "      <td>Aladdin (2019)</td>\n",
              "      <td>1515</td>\n",
              "    </tr>\n",
              "    <tr>\n",
              "      <th>27</th>\n",
              "      <td>3</td>\n",
              "      <td>Aladdin (2019)</td>\n",
              "      <td>916</td>\n",
              "    </tr>\n",
              "    <tr>\n",
              "      <th>28</th>\n",
              "      <td>2</td>\n",
              "      <td>Aladdin (2019)</td>\n",
              "      <td>666</td>\n",
              "    </tr>\n",
              "    <tr>\n",
              "      <th>29</th>\n",
              "      <td>1</td>\n",
              "      <td>Aladdin (2019)</td>\n",
              "      <td>2397</td>\n",
              "    </tr>\n",
              "    <tr>\n",
              "      <th>30</th>\n",
              "      <td>10</td>\n",
              "      <td>Aladdin (1992)</td>\n",
              "      <td>58919</td>\n",
              "    </tr>\n",
              "    <tr>\n",
              "      <th>31</th>\n",
              "      <td>9</td>\n",
              "      <td>Aladdin (1992)</td>\n",
              "      <td>61240</td>\n",
              "    </tr>\n",
              "    <tr>\n",
              "      <th>32</th>\n",
              "      <td>8</td>\n",
              "      <td>Aladdin (1992)</td>\n",
              "      <td>111149</td>\n",
              "    </tr>\n",
              "    <tr>\n",
              "      <th>33</th>\n",
              "      <td>7</td>\n",
              "      <td>Aladdin (1992)</td>\n",
              "      <td>61573</td>\n",
              "    </tr>\n",
              "    <tr>\n",
              "      <th>34</th>\n",
              "      <td>6</td>\n",
              "      <td>Aladdin (1992)</td>\n",
              "      <td>20592</td>\n",
              "    </tr>\n",
              "    <tr>\n",
              "      <th>35</th>\n",
              "      <td>5</td>\n",
              "      <td>Aladdin (1992)</td>\n",
              "      <td>7057</td>\n",
              "    </tr>\n",
              "    <tr>\n",
              "      <th>36</th>\n",
              "      <td>4</td>\n",
              "      <td>Aladdin (1992)</td>\n",
              "      <td>2593</td>\n",
              "    </tr>\n",
              "    <tr>\n",
              "      <th>37</th>\n",
              "      <td>3</td>\n",
              "      <td>Aladdin (1992)</td>\n",
              "      <td>1199</td>\n",
              "    </tr>\n",
              "    <tr>\n",
              "      <th>38</th>\n",
              "      <td>2</td>\n",
              "      <td>Aladdin (1992)</td>\n",
              "      <td>689</td>\n",
              "    </tr>\n",
              "    <tr>\n",
              "      <th>39</th>\n",
              "      <td>1</td>\n",
              "      <td>Aladdin (1992)</td>\n",
              "      <td>1249</td>\n",
              "    </tr>\n",
              "  </tbody>\n",
              "</table>\n",
              "</div>"
            ],
            "text/plain": [
              "    Star Rating                movies  no of votes\n",
              "0            10  The Lion King (2019)        10800\n",
              "1             9  The Lion King (2019)         6987\n",
              "2             8  The Lion King (2019)        12834\n",
              "3             7  The Lion King (2019)        13701\n",
              "4             6  The Lion King (2019)         7333\n",
              "5             5  The Lion King (2019)         3376\n",
              "6             4  The Lion King (2019)         1550\n",
              "7             3  The Lion King (2019)         1057\n",
              "8             2  The Lion King (2019)          796\n",
              "9             1  The Lion King (2019)         2657\n",
              "10           10  The Lion King (1994)       254764\n",
              "11            9  The Lion King (1994)       219304\n",
              "12            8  The Lion King (1994)       213634\n",
              "13            7  The Lion King (1994)       100753\n",
              "14            6  The Lion King (1994)        33092\n",
              "15            5  The Lion King (1994)        13250\n",
              "16            4  The Lion King (1994)         5343\n",
              "17            3  The Lion King (1994)         3011\n",
              "18            2  The Lion King (1994)         1969\n",
              "19            1  The Lion King (1994)         4956\n",
              "20           10        Aladdin (2019)        14810\n",
              "21            9        Aladdin (2019)        11786\n",
              "22            8        Aladdin (2019)        22754\n",
              "23            7        Aladdin (2019)        20330\n",
              "24            6        Aladdin (2019)         8634\n",
              "25            5        Aladdin (2019)         3348\n",
              "26            4        Aladdin (2019)         1515\n",
              "27            3        Aladdin (2019)          916\n",
              "28            2        Aladdin (2019)          666\n",
              "29            1        Aladdin (2019)         2397\n",
              "30           10        Aladdin (1992)        58919\n",
              "31            9        Aladdin (1992)        61240\n",
              "32            8        Aladdin (1992)       111149\n",
              "33            7        Aladdin (1992)        61573\n",
              "34            6        Aladdin (1992)        20592\n",
              "35            5        Aladdin (1992)         7057\n",
              "36            4        Aladdin (1992)         2593\n",
              "37            3        Aladdin (1992)         1199\n",
              "38            2        Aladdin (1992)          689\n",
              "39            1        Aladdin (1992)         1249"
            ]
          },
          "metadata": {
            "tags": []
          },
          "execution_count": 16
        }
      ]
    },
    {
      "cell_type": "code",
      "metadata": {
        "id": "HpW08zAhpexx",
        "colab_type": "code",
        "outputId": "2e634e85-c701-44d4-e44d-a2af39ff695b",
        "colab": {
          "base_uri": "https://localhost:8080/",
          "height": 150
        }
      },
      "source": [
        "df_tidy.info()"
      ],
      "execution_count": 0,
      "outputs": [
        {
          "output_type": "stream",
          "text": [
            "<class 'pandas.core.frame.DataFrame'>\n",
            "RangeIndex: 40 entries, 0 to 39\n",
            "Data columns (total 3 columns):\n",
            "Star Rating    40 non-null int64\n",
            "movies         40 non-null object\n",
            "no of votes    40 non-null int64\n",
            "dtypes: int64(2), object(1)\n",
            "memory usage: 1.0+ KB\n"
          ],
          "name": "stdout"
        }
      ]
    },
    {
      "cell_type": "code",
      "metadata": {
        "id": "YrzmaVJVw6mZ",
        "colab_type": "code",
        "outputId": "b4ebee80-2eed-4937-8f54-a41b6b4e7427",
        "colab": {
          "base_uri": "https://localhost:8080/",
          "height": 196
        }
      },
      "source": [
        "df_tidy['Vote Percent'] = df_tidy.groupby('movies')['no of votes'].apply(lambda x: x / x.sum() * 100)\n",
        "df_tidy.head()"
      ],
      "execution_count": 0,
      "outputs": [
        {
          "output_type": "execute_result",
          "data": {
            "text/html": [
              "<div>\n",
              "<style scoped>\n",
              "    .dataframe tbody tr th:only-of-type {\n",
              "        vertical-align: middle;\n",
              "    }\n",
              "\n",
              "    .dataframe tbody tr th {\n",
              "        vertical-align: top;\n",
              "    }\n",
              "\n",
              "    .dataframe thead th {\n",
              "        text-align: right;\n",
              "    }\n",
              "</style>\n",
              "<table border=\"1\" class=\"dataframe\">\n",
              "  <thead>\n",
              "    <tr style=\"text-align: right;\">\n",
              "      <th></th>\n",
              "      <th>Star Rating</th>\n",
              "      <th>movies</th>\n",
              "      <th>no of votes</th>\n",
              "      <th>Vote Percent</th>\n",
              "    </tr>\n",
              "  </thead>\n",
              "  <tbody>\n",
              "    <tr>\n",
              "      <th>0</th>\n",
              "      <td>10</td>\n",
              "      <td>The Lion King (2019)</td>\n",
              "      <td>10800</td>\n",
              "      <td>17.678545</td>\n",
              "    </tr>\n",
              "    <tr>\n",
              "      <th>1</th>\n",
              "      <td>9</td>\n",
              "      <td>The Lion King (2019)</td>\n",
              "      <td>6987</td>\n",
              "      <td>11.437037</td>\n",
              "    </tr>\n",
              "    <tr>\n",
              "      <th>2</th>\n",
              "      <td>8</td>\n",
              "      <td>The Lion King (2019)</td>\n",
              "      <td>12834</td>\n",
              "      <td>21.008004</td>\n",
              "    </tr>\n",
              "    <tr>\n",
              "      <th>3</th>\n",
              "      <td>7</td>\n",
              "      <td>The Lion King (2019)</td>\n",
              "      <td>13701</td>\n",
              "      <td>22.427199</td>\n",
              "    </tr>\n",
              "    <tr>\n",
              "      <th>4</th>\n",
              "      <td>6</td>\n",
              "      <td>The Lion King (2019)</td>\n",
              "      <td>7333</td>\n",
              "      <td>12.003405</td>\n",
              "    </tr>\n",
              "  </tbody>\n",
              "</table>\n",
              "</div>"
            ],
            "text/plain": [
              "   Star Rating                movies  no of votes  Vote Percent\n",
              "0           10  The Lion King (2019)        10800     17.678545\n",
              "1            9  The Lion King (2019)         6987     11.437037\n",
              "2            8  The Lion King (2019)        12834     21.008004\n",
              "3            7  The Lion King (2019)        13701     22.427199\n",
              "4            6  The Lion King (2019)         7333     12.003405"
            ]
          },
          "metadata": {
            "tags": []
          },
          "execution_count": 18
        }
      ]
    },
    {
      "cell_type": "code",
      "metadata": {
        "id": "27UNJaD2pe0r",
        "colab_type": "code",
        "outputId": "adf263dd-3baf-460f-8d43-beb3cb89ed3a",
        "colab": {
          "base_uri": "https://localhost:8080/",
          "height": 889
        }
      },
      "source": [
        "import seaborn as sns\n",
        "#col to create seprate graph for each variable\n",
        "#colwrap to show no of plot per column\n",
        "sns.catplot(x='Star Rating', y='no of votes', col='movies',col_wrap=2, height=6, kind='bar', data=df_tidy)"
      ],
      "execution_count": 0,
      "outputs": [
        {
          "output_type": "execute_result",
          "data": {
            "text/plain": [
              "<seaborn.axisgrid.FacetGrid at 0x7fa6e0d29d68>"
            ]
          },
          "metadata": {
            "tags": []
          },
          "execution_count": 19
        },
        {
          "output_type": "display_data",
          "data": {
            "image/png": "[encoded data removed]",
            "text/plain": [
              "<Figure size 864x864 with 4 Axes>"
            ]
          },
          "metadata": {
            "tags": []
          }
        }
      ]
    },
    {
      "cell_type": "code",
      "metadata": {
        "id": "3WZgLxaCyIIm",
        "colab_type": "code",
        "outputId": "5e3273ac-e0ca-43f1-ea60-ed52c00305ad",
        "colab": {
          "base_uri": "https://localhost:8080/",
          "height": 889
        }
      },
      "source": [
        "sns.catplot(x='Star Rating', y='Vote Percent', col='movies',col_wrap=2, height=6, kind='bar', data=df_tidy)"
      ],
      "execution_count": 0,
      "outputs": [
        {
          "output_type": "execute_result",
          "data": {
            "text/plain": [
              "<seaborn.axisgrid.FacetGrid at 0x7fa6e04b10b8>"
            ]
          },
          "metadata": {
            "tags": []
          },
          "execution_count": 20
        },
        {
          "output_type": "display_data",
          "data": {
            "image/png": "[encoded data removed]",
            "text/plain": [
              "<Figure size 864x864 with 4 Axes>"
            ]
          },
          "metadata": {
            "tags": []
          }
        }
      ]
    },
    {
      "cell_type": "markdown",
      "metadata": {
        "id": "5_na7Oy3NGKA",
        "colab_type": "text"
      },
      "source": [
        "# Making Explanatory Visualizations with Seaborn"
      ]
    },
    {
      "cell_type": "markdown",
      "metadata": {
        "id": "ORUwQD6F-VYg",
        "colab_type": "text"
      },
      "source": [
        "Today we will reproduce this [example by FiveThirtyEight:](https://fivethirtyeight.com/features/al-gores-new-movie-exposes-the-big-flaw-in-online-movie-ratings/)\n",
        "\n"
      ]
    },
    {
      "cell_type": "code",
      "metadata": {
        "colab_type": "code",
        "id": "ya_w5WORGs-n",
        "outputId": "9d4887f5-beb0-44c6-8cf3-64bb64c64eae",
        "colab": {
          "base_uri": "https://localhost:8080/",
          "height": 355
        }
      },
      "source": [
        "from IPython.display import display, Image\n",
        "\n",
        "url = 'https://fivethirtyeight.com/wp-content/uploads/2017/09/mehtahickey-inconvenient-0830-1.png'\n",
        "example = Image(url=url, width=400)\n",
        "\n",
        "display(example)"
      ],
      "execution_count": 0,
      "outputs": [
        {
          "output_type": "display_data",
          "data": {
            "text/html": [
              "<img src=\"https://fivethirtyeight.com/wp-content/uploads/2017/09/mehtahickey-inconvenient-0830-1.png\" width=\"400\"/>"
            ],
            "text/plain": [
              "<IPython.core.display.Image object>"
            ]
          },
          "metadata": {
            "tags": []
          }
        }
      ]
    },
    {
      "cell_type": "markdown",
      "metadata": {
        "colab_type": "text",
        "id": "HP4DALiRG3sC"
      },
      "source": [
        "Using this data: https://github.com/fivethirtyeight/data/tree/master/inconvenient-sequel"
      ]
    },
    {
      "cell_type": "markdown",
      "metadata": {
        "colab_type": "text",
        "id": "HioPkYtUG03B"
      },
      "source": [
        "Links\n",
        "- [Strong Titles Are The Biggest Bang for Your Buck](http://stephanieevergreen.com/strong-titles/)\n",
        "- [Remove to improve (the data-ink ratio)](https://www.darkhorseanalytics.com/blog/data-looks-better-naked)\n",
        "- [How to Generate FiveThirtyEight Graphs in Python](https://www.dataquest.io/blog/making-538-plots/)"
      ]
    },
    {
      "cell_type": "markdown",
      "metadata": {
        "colab_type": "text",
        "id": "0w_iMnQ6-VoQ"
      },
      "source": [
        "## Make prototypes\n",
        "\n",
        "This  helps us understand the problem"
      ]
    },
    {
      "cell_type": "code",
      "metadata": {
        "colab_type": "code",
        "id": "5uz0eEaEN-GO",
        "outputId": "c0c72ea1-0d2d-47e4-f801-56ab231a59d0",
        "colab": {
          "base_uri": "https://localhost:8080/",
          "height": 285
        }
      },
      "source": [
        "%matplotlib inline\n",
        "import matplotlib.pyplot as plt\n",
        "import numpy as np\n",
        "import pandas as pd\n",
        "\n",
        "\n",
        "plt.style.use('fivethirtyeight')\n",
        "\n",
        "fake = pd.Series([38, 3, 2, 1, 2, 4, 6, 5, 5, 33], \n",
        "                 index=range(1,11))\n",
        "\n",
        "fake.plot.bar(color='C1', width=0.9);"
      ],
      "execution_count": 0,
      "outputs": [
        {
          "output_type": "display_data",
          "data": {
            "image/png": "[encoded data removed]",
            "text/plain": [
              "<Figure size 432x288 with 1 Axes>"
            ]
          },
          "metadata": {
            "tags": []
          }
        }
      ]
    },
    {
      "cell_type": "code",
      "metadata": {
        "colab_type": "code",
        "id": "KZ0VLOV8OyRr",
        "outputId": "909c417d-3719-4b94-9595-f5d093c9f492",
        "colab": {
          "base_uri": "https://localhost:8080/",
          "height": 289
        }
      },
      "source": [
        "# recreate using value count\n",
        "fake2 = pd.Series(\n",
        "    [1, 1, 1, 1, 1, 1, 1, 1, 1, 1, 1, 1, 1, 1, 1, 1, 1, 1, 1, 1, 1, 1, 1, 1,\n",
        "     2, 2, 2, \n",
        "     3, 3, 3,\n",
        "     4, 4,\n",
        "     5, 5, 5,\n",
        "     6, 6, 6, 6,\n",
        "     7, 7, 7, 7, 7,\n",
        "     8, 8, 8, 8,\n",
        "     9, 9, 9, 9, \n",
        "     10, 10, 10, 10, 10, 10, 10, 10, 10, 10, 10, 10, 10, 10, 10, 10, 10, 10])\n",
        "\n",
        "fake2.value_counts().sort_index().plot.bar(color='C1', width=0.9);"
      ],
      "execution_count": 0,
      "outputs": [
        {
          "output_type": "display_data",
          "data": {
            "image/png": "[encoded data removed]",
            "text/plain": [
              "<Figure size 432x288 with 1 Axes>"
            ]
          },
          "metadata": {
            "tags": []
          }
        }
      ]
    },
    {
      "cell_type": "markdown",
      "metadata": {
        "colab_type": "text",
        "id": "mZb3UZWO-q05"
      },
      "source": [
        "## Annotate with text"
      ]
    },
    {
      "cell_type": "code",
      "metadata": {
        "id": "X9KJOkbMEX64",
        "colab_type": "code",
        "outputId": "5adc9ada-8f39-4a87-ebac-d0a38cc767fd",
        "colab": {
          "base_uri": "https://localhost:8080/",
          "height": 355
        }
      },
      "source": [
        "display(example)"
      ],
      "execution_count": 0,
      "outputs": [
        {
          "output_type": "display_data",
          "data": {
            "text/html": [
              "<img src=\"https://fivethirtyeight.com/wp-content/uploads/2017/09/mehtahickey-inconvenient-0830-1.png\" width=\"400\"/>"
            ],
            "text/plain": [
              "<IPython.core.display.Image object>"
            ]
          },
          "metadata": {
            "tags": []
          }
        }
      ]
    },
    {
      "cell_type": "code",
      "metadata": {
        "colab_type": "code",
        "id": "f6U1vswr_uWp",
        "outputId": "6b7189cb-abf1-4a02-b824-ff5080b9b863",
        "colab": {
          "base_uri": "https://localhost:8080/",
          "height": 369
        }
      },
      "source": [
        "import matplotlib.pyplot as plt\n",
        "plt.style.use('fivethirtyeight')\n",
        "fig, ax=plt.subplots(facecolor='white')\n",
        "fake.plot.bar(color='C1', width=0.9);\n",
        "plt.xlabel('Rating', fontsize=10, fontweight='bold')\n",
        "plt.ylabel('Percent of total votes',fontsize=10, fontweight='bold')\n",
        "#plt.title(\"'An Inconvenient Sequel:Truth To Power' is divisive\")\n",
        "# multiple input\n",
        "plt.text(x=-1.5, y=50, fontsize=16,fontweight='bold',\n",
        "    s=\"'An Inconvenient Sequel:Truth To Power' is divisive\")\n",
        "plt.text(x=-1.5, y=46, fontsize=16,\n",
        "    s=\"IMBD ratings for the film as of Aug.29\")\n",
        "plt.yticks(range(0,41,10));"
      ],
      "execution_count": 0,
      "outputs": [
        {
          "output_type": "display_data",
          "data": {
            "image/png": "[encoded data removed]",
            "text/plain": [
              "<Figure size 432x288 with 1 Axes>"
            ]
          },
          "metadata": {
            "tags": []
          }
        }
      ]
    },
    {
      "cell_type": "markdown",
      "metadata": {
        "colab_type": "text",
        "id": "x8jRZkpB_MJ6"
      },
      "source": [
        "## Reproduce with real data"
      ]
    },
    {
      "cell_type": "code",
      "metadata": {
        "id": "UAenk-0cynsI",
        "colab_type": "code",
        "outputId": "839cd840-35b5-44e9-fe2a-0b59b70ab0f7",
        "colab": {
          "base_uri": "https://localhost:8080/",
          "height": 317
        }
      },
      "source": [
        "df = pd.read_csv('https://raw.githubusercontent.com/fivethirtyeight/data/master/inconvenient-sequel/ratings.csv')\n",
        "print(df.shape)\n",
        "df.head()"
      ],
      "execution_count": 0,
      "outputs": [
        {
          "output_type": "stream",
          "text": [
            "(80053, 27)\n"
          ],
          "name": "stdout"
        },
        {
          "output_type": "execute_result",
          "data": {
            "text/html": [
              "<div>\n",
              "<style scoped>\n",
              "    .dataframe tbody tr th:only-of-type {\n",
              "        vertical-align: middle;\n",
              "    }\n",
              "\n",
              "    .dataframe tbody tr th {\n",
              "        vertical-align: top;\n",
              "    }\n",
              "\n",
              "    .dataframe thead th {\n",
              "        text-align: right;\n",
              "    }\n",
              "</style>\n",
              "<table border=\"1\" class=\"dataframe\">\n",
              "  <thead>\n",
              "    <tr style=\"text-align: right;\">\n",
              "      <th></th>\n",
              "      <th>timestamp</th>\n",
              "      <th>respondents</th>\n",
              "      <th>category</th>\n",
              "      <th>link</th>\n",
              "      <th>average</th>\n",
              "      <th>mean</th>\n",
              "      <th>median</th>\n",
              "      <th>1_votes</th>\n",
              "      <th>2_votes</th>\n",
              "      <th>3_votes</th>\n",
              "      <th>4_votes</th>\n",
              "      <th>5_votes</th>\n",
              "      <th>6_votes</th>\n",
              "      <th>7_votes</th>\n",
              "      <th>8_votes</th>\n",
              "      <th>9_votes</th>\n",
              "      <th>10_votes</th>\n",
              "      <th>1_pct</th>\n",
              "      <th>2_pct</th>\n",
              "      <th>3_pct</th>\n",
              "      <th>4_pct</th>\n",
              "      <th>5_pct</th>\n",
              "      <th>6_pct</th>\n",
              "      <th>7_pct</th>\n",
              "      <th>8_pct</th>\n",
              "      <th>9_pct</th>\n",
              "      <th>10_pct</th>\n",
              "    </tr>\n",
              "  </thead>\n",
              "  <tbody>\n",
              "    <tr>\n",
              "      <th>0</th>\n",
              "      <td>2017-07-17 12:28:32.785639</td>\n",
              "      <td>402</td>\n",
              "      <td>Males</td>\n",
              "      <td>http://www.imdb.com/title/tt6322922/ratings-male</td>\n",
              "      <td>4.6</td>\n",
              "      <td>5.0</td>\n",
              "      <td>2</td>\n",
              "      <td>197</td>\n",
              "      <td>7</td>\n",
              "      <td>7</td>\n",
              "      <td>3</td>\n",
              "      <td>7</td>\n",
              "      <td>7</td>\n",
              "      <td>11</td>\n",
              "      <td>8</td>\n",
              "      <td>20</td>\n",
              "      <td>135</td>\n",
              "      <td>49.0</td>\n",
              "      <td>1.7</td>\n",
              "      <td>1.7</td>\n",
              "      <td>0.7</td>\n",
              "      <td>1.7</td>\n",
              "      <td>1.7</td>\n",
              "      <td>2.7</td>\n",
              "      <td>2.0</td>\n",
              "      <td>5.0</td>\n",
              "      <td>33.6</td>\n",
              "    </tr>\n",
              "    <tr>\n",
              "      <th>1</th>\n",
              "      <td>2017-07-17 12:28:33.025600</td>\n",
              "      <td>78</td>\n",
              "      <td>Females</td>\n",
              "      <td>http://www.imdb.com/title/tt6322922/ratings-fe...</td>\n",
              "      <td>6.9</td>\n",
              "      <td>7.7</td>\n",
              "      <td>10</td>\n",
              "      <td>16</td>\n",
              "      <td>1</td>\n",
              "      <td>0</td>\n",
              "      <td>1</td>\n",
              "      <td>1</td>\n",
              "      <td>0</td>\n",
              "      <td>3</td>\n",
              "      <td>4</td>\n",
              "      <td>3</td>\n",
              "      <td>49</td>\n",
              "      <td>20.5</td>\n",
              "      <td>1.3</td>\n",
              "      <td>0.0</td>\n",
              "      <td>1.3</td>\n",
              "      <td>1.3</td>\n",
              "      <td>0.0</td>\n",
              "      <td>3.8</td>\n",
              "      <td>5.1</td>\n",
              "      <td>3.8</td>\n",
              "      <td>62.8</td>\n",
              "    </tr>\n",
              "    <tr>\n",
              "      <th>2</th>\n",
              "      <td>2017-07-17 12:28:33.273919</td>\n",
              "      <td>4</td>\n",
              "      <td>Aged under 18</td>\n",
              "      <td>http://www.imdb.com/title/tt6322922/ratings-age_1</td>\n",
              "      <td>4.2</td>\n",
              "      <td>4.2</td>\n",
              "      <td>3</td>\n",
              "      <td>2</td>\n",
              "      <td>0</td>\n",
              "      <td>0</td>\n",
              "      <td>0</td>\n",
              "      <td>1</td>\n",
              "      <td>0</td>\n",
              "      <td>0</td>\n",
              "      <td>0</td>\n",
              "      <td>0</td>\n",
              "      <td>1</td>\n",
              "      <td>50.0</td>\n",
              "      <td>0.0</td>\n",
              "      <td>0.0</td>\n",
              "      <td>0.0</td>\n",
              "      <td>25.0</td>\n",
              "      <td>0.0</td>\n",
              "      <td>0.0</td>\n",
              "      <td>0.0</td>\n",
              "      <td>0.0</td>\n",
              "      <td>25.0</td>\n",
              "    </tr>\n",
              "    <tr>\n",
              "      <th>3</th>\n",
              "      <td>2017-07-17 12:28:33.495325</td>\n",
              "      <td>4</td>\n",
              "      <td>Males under 18</td>\n",
              "      <td>http://www.imdb.com/title/tt6322922/ratings-ma...</td>\n",
              "      <td>4.2</td>\n",
              "      <td>4.2</td>\n",
              "      <td>3</td>\n",
              "      <td>2</td>\n",
              "      <td>0</td>\n",
              "      <td>0</td>\n",
              "      <td>0</td>\n",
              "      <td>1</td>\n",
              "      <td>0</td>\n",
              "      <td>0</td>\n",
              "      <td>0</td>\n",
              "      <td>0</td>\n",
              "      <td>1</td>\n",
              "      <td>50.0</td>\n",
              "      <td>0.0</td>\n",
              "      <td>0.0</td>\n",
              "      <td>0.0</td>\n",
              "      <td>25.0</td>\n",
              "      <td>0.0</td>\n",
              "      <td>0.0</td>\n",
              "      <td>0.0</td>\n",
              "      <td>0.0</td>\n",
              "      <td>25.0</td>\n",
              "    </tr>\n",
              "    <tr>\n",
              "      <th>4</th>\n",
              "      <td>2017-07-17 12:28:33.722849</td>\n",
              "      <td>130</td>\n",
              "      <td>Aged 18-29</td>\n",
              "      <td>http://www.imdb.com/title/tt6322922/ratings-age_2</td>\n",
              "      <td>6.3</td>\n",
              "      <td>6.5</td>\n",
              "      <td>9</td>\n",
              "      <td>41</td>\n",
              "      <td>0</td>\n",
              "      <td>3</td>\n",
              "      <td>1</td>\n",
              "      <td>2</td>\n",
              "      <td>3</td>\n",
              "      <td>6</td>\n",
              "      <td>4</td>\n",
              "      <td>6</td>\n",
              "      <td>64</td>\n",
              "      <td>31.5</td>\n",
              "      <td>0.0</td>\n",
              "      <td>2.3</td>\n",
              "      <td>0.8</td>\n",
              "      <td>1.5</td>\n",
              "      <td>2.3</td>\n",
              "      <td>4.6</td>\n",
              "      <td>3.1</td>\n",
              "      <td>4.6</td>\n",
              "      <td>49.2</td>\n",
              "    </tr>\n",
              "  </tbody>\n",
              "</table>\n",
              "</div>"
            ],
            "text/plain": [
              "                    timestamp  respondents  ... 9_pct 10_pct\n",
              "0  2017-07-17 12:28:32.785639          402  ...   5.0   33.6\n",
              "1  2017-07-17 12:28:33.025600           78  ...   3.8   62.8\n",
              "2  2017-07-17 12:28:33.273919            4  ...   0.0   25.0\n",
              "3  2017-07-17 12:28:33.495325            4  ...   0.0   25.0\n",
              "4  2017-07-17 12:28:33.722849          130  ...   4.6   49.2\n",
              "\n",
              "[5 rows x 27 columns]"
            ]
          },
          "metadata": {
            "tags": []
          },
          "execution_count": 26
        }
      ]
    },
    {
      "cell_type": "code",
      "metadata": {
        "colab_type": "code",
        "id": "cDltXxhC_yG-",
        "outputId": "635e0ddf-6cff-47bf-efe6-49e5a9e59bce",
        "colab": {
          "base_uri": "https://localhost:8080/",
          "height": 351
        }
      },
      "source": [
        "df.category.value_counts()"
      ],
      "execution_count": 0,
      "outputs": [
        {
          "output_type": "execute_result",
          "data": {
            "text/plain": [
              "Aged under 18         4216\n",
              "Top 1000 voters       4216\n",
              "Aged 45+              4216\n",
              "Females Aged 30-44    4216\n",
              "Males Aged 45+        4216\n",
              "Non-US users          4216\n",
              "IMDb users            4216\n",
              "Females Aged 45+      4216\n",
              "Females               4216\n",
              "Males Aged 30-44      4216\n",
              "Males under 18        4216\n",
              "Aged 18-29            4216\n",
              "Aged 30-44            4216\n",
              "IMDb staff            4216\n",
              "US users              4216\n",
              "Males                 4216\n",
              "Males Aged 18-29      4216\n",
              "Females Aged 18-29    4216\n",
              "Females under 18      4165\n",
              "Name: category, dtype: int64"
            ]
          },
          "metadata": {
            "tags": []
          },
          "execution_count": 28
        }
      ]
    },
    {
      "cell_type": "code",
      "metadata": {
        "id": "VygJdmo5S7q7",
        "colab_type": "code",
        "colab": {}
      },
      "source": [
        "df.dtypes"
      ],
      "execution_count": 0,
      "outputs": []
    },
    {
      "cell_type": "code",
      "metadata": {
        "id": "y6fMBUSsS7wq",
        "colab_type": "code",
        "colab": {}
      },
      "source": [
        "df['timestamp']= pd.to_datetime(df['timestamp'])\n",
        "df.timestamp.describe()"
      ],
      "execution_count": 0,
      "outputs": []
    },
    {
      "cell_type": "code",
      "metadata": {
        "id": "nc8dx-WGVf0a",
        "colab_type": "code",
        "colab": {}
      },
      "source": [
        "df_imdb = df[df.category == 'IMDb users']\n",
        "df_imdb.shape"
      ],
      "execution_count": 0,
      "outputs": []
    },
    {
      "cell_type": "code",
      "metadata": {
        "id": "RQDRdZKuVf4N",
        "colab_type": "code",
        "colab": {}
      },
      "source": [
        "final=df_imdb.tail(1)\n",
        "final"
      ],
      "execution_count": 0,
      "outputs": []
    },
    {
      "cell_type": "code",
      "metadata": {
        "id": "qcAoUn6KY4Yu",
        "colab_type": "code",
        "colab": {}
      },
      "source": [
        "#columns=['{}_pct'.format(i) for i in range(1,11)]\n",
        "columns=[f'{i}_pct' for i in range(1,11)]\n",
        "columns"
      ],
      "execution_count": 0,
      "outputs": []
    },
    {
      "cell_type": "code",
      "metadata": {
        "id": "Ztz4mSvhY4ax",
        "colab_type": "code",
        "colab": {}
      },
      "source": [
        "data=final[columns]\n",
        "data=data.T\n",
        "data.index = range(1,11)\n",
        "data"
      ],
      "execution_count": 0,
      "outputs": []
    },
    {
      "cell_type": "code",
      "metadata": {
        "id": "FsOYBVMyY4d9",
        "colab_type": "code",
        "colab": {}
      },
      "source": [
        "plt.style.use('fivethirtyeight')\n",
        "\n",
        "data.plot.bar(color='C1', width=0.9, legend=False)\n",
        "plt.text(x=-1.5, y=50, fontsize=16, fontweight='bold',\n",
        "         s = \"'An Inconvenient Sequel: Truth to Power' is divisive\")\n",
        "plt.text(x=-1.5, y=46, fontsize=12,\n",
        "         s = \"IMDb ratings for the film as of Aug. 29\")\n",
        "plt.yticks([0, 10, 20, 30, 40])\n",
        "plt.xlabel('Rating', fontsize=10, fontweight='bold')\n",
        "plt.ylabel('Percent of Total Votes', fontsize=10, fontweight='bold');"
      ],
      "execution_count": 0,
      "outputs": []
    },
    {
      "cell_type": "code",
      "metadata": {
        "id": "dKuW4LHfY4-Y",
        "colab_type": "code",
        "colab": {}
      },
      "source": [
        ""
      ],
      "execution_count": 0,
      "outputs": []
    },
    {
      "cell_type": "code",
      "metadata": {
        "id": "ObuA0lDEY5BW",
        "colab_type": "code",
        "colab": {}
      },
      "source": [
        ""
      ],
      "execution_count": 0,
      "outputs": []
    },
    {
      "cell_type": "markdown",
      "metadata": {
        "colab_type": "text",
        "id": "NMEswXWh9mqw"
      },
      "source": [
        "# ASSIGNMENT\n",
        "\n",
        "Replicate the lesson code. I recommend that you [do not copy-paste](https://docs.google.com/document/d/1ubOw9B3Hfip27hF2ZFnW3a3z9xAgrUDRReOEo-FHCVs/edit).\n",
        "\n",
        "# STRETCH OPTIONS\n",
        "\n",
        "#### 1) Reproduce another example from [FiveThityEight's shared data repository](https://data.fivethirtyeight.com/).\n",
        "\n",
        "#### 2) Reproduce one of the following using a library other than Seaborn or Matplotlib.\n",
        "\n",
        "For example:\n",
        "- [thanksgiving-2015](https://fivethirtyeight.com/features/heres-what-your-part-of-america-eats-on-thanksgiving/) (try the [`altair`](https://altair-viz.github.io/gallery/index.html#maps) library)\n",
        "- [candy-power-ranking](https://fivethirtyeight.com/features/the-ultimate-halloween-candy-power-ranking/) (try the [`statsmodels`](https://www.statsmodels.org/stable/index.html) library)\n",
        "- or another example of your choice!\n",
        "\n",
        "#### 3) Make more charts!\n",
        "\n",
        "Choose a chart you want to make, from [Visual Vocabulary - Vega Edition](http://ft.com/vocabulary).\n",
        "\n",
        "Find the chart in an example gallery of a Python data visualization library:\n",
        "- [Seaborn](http://seaborn.pydata.org/examples/index.html)\n",
        "- [Altair](https://altair-viz.github.io/gallery/index.html)\n",
        "- [Matplotlib](https://matplotlib.org/gallery.html)\n",
        "- [Pandas](https://pandas.pydata.org/pandas-docs/stable/visualization.html)\n",
        "\n",
        "Reproduce the chart. [Optionally, try the \"Ben Franklin Method.\"](https://docs.google.com/document/d/1ubOw9B3Hfip27hF2ZFnW3a3z9xAgrUDRReOEo-FHCVs/edit) If you want, experiment and make changes.\n",
        "\n",
        "Take notes. Consider sharing your work with your cohort!\n",
        "\n",
        "\n",
        "\n",
        "\n",
        "\n",
        "\n",
        "\n"
      ]
    },
    {
      "cell_type": "markdown",
      "metadata": {
        "id": "WQipdShLNjRi",
        "colab_type": "text"
      },
      "source": [
        "## Thanksgiving-2015 data"
      ]
    },
    {
      "cell_type": "code",
      "metadata": {
        "id": "oZjX5DeRY3Tt",
        "colab_type": "code",
        "outputId": "97f6c2c2-87a3-4d92-c307-56b77e66680c",
        "colab": {
          "base_uri": "https://localhost:8080/",
          "height": 362
        }
      },
      "source": [
        "import data as pd\n",
        "url = 'https://raw.githubusercontent.com/fivethirtyeight/data/master/thanksgiving-2015/thanksgiving-2015-poll-data.csv'\n",
        "dfthanks=pd.read_csv(url)\n",
        "print(dfthanks.shape)\n",
        "dfthanks.head()"
      ],
      "execution_count": 0,
      "outputs": [
        {
          "output_type": "error",
          "ename": "ModuleNotFoundError",
          "evalue": "ignored",
          "traceback": [
            "\u001b[0;31m---------------------------------------------------------------------------\u001b[0m",
            "\u001b[0;31mModuleNotFoundError\u001b[0m                       Traceback (most recent call last)",
            "\u001b[0;32m<ipython-input-1-1df78679ec24>\u001b[0m in \u001b[0;36m<module>\u001b[0;34m()\u001b[0m\n\u001b[0;32m----> 1\u001b[0;31m \u001b[0;32mimport\u001b[0m \u001b[0mdata\u001b[0m \u001b[0;32mas\u001b[0m \u001b[0mpd\u001b[0m\u001b[0;34m\u001b[0m\u001b[0;34m\u001b[0m\u001b[0m\n\u001b[0m\u001b[1;32m      2\u001b[0m \u001b[0murl\u001b[0m \u001b[0;34m=\u001b[0m \u001b[0;34m'https://raw.githubusercontent.com/fivethirtyeight/data/master/thanksgiving-2015/thanksgiving-2015-poll-data.csv'\u001b[0m\u001b[0;34m\u001b[0m\u001b[0;34m\u001b[0m\u001b[0m\n\u001b[1;32m      3\u001b[0m \u001b[0mdfthanks\u001b[0m\u001b[0;34m=\u001b[0m\u001b[0mpd\u001b[0m\u001b[0;34m.\u001b[0m\u001b[0mread_csv\u001b[0m\u001b[0;34m(\u001b[0m\u001b[0murl\u001b[0m\u001b[0;34m)\u001b[0m\u001b[0;34m\u001b[0m\u001b[0;34m\u001b[0m\u001b[0m\n\u001b[1;32m      4\u001b[0m \u001b[0mprint\u001b[0m\u001b[0;34m(\u001b[0m\u001b[0mdfthanks\u001b[0m\u001b[0;34m.\u001b[0m\u001b[0mshape\u001b[0m\u001b[0;34m)\u001b[0m\u001b[0;34m\u001b[0m\u001b[0;34m\u001b[0m\u001b[0m\n\u001b[1;32m      5\u001b[0m \u001b[0mdfthanks\u001b[0m\u001b[0;34m.\u001b[0m\u001b[0mhead\u001b[0m\u001b[0;34m(\u001b[0m\u001b[0;34m)\u001b[0m\u001b[0;34m\u001b[0m\u001b[0;34m\u001b[0m\u001b[0m\n",
            "\u001b[0;31mModuleNotFoundError\u001b[0m: No module named 'data'",
            "",
            "\u001b[0;31m---------------------------------------------------------------------------\u001b[0;32m\nNOTE: If your import is failing due to a missing package, you can\nmanually install dependencies using either !pip or !apt.\n\nTo view examples of installing some common dependencies, click the\n\"Open Examples\" button below.\n\u001b[0;31m---------------------------------------------------------------------------\u001b[0m\n"
          ]
        }
      ]
    },
    {
      "cell_type": "code",
      "metadata": {
        "id": "bumjRXgYS6dG",
        "colab_type": "code",
        "colab": {}
      },
      "source": [
        ""
      ],
      "execution_count": 0,
      "outputs": []
    },
    {
      "cell_type": "code",
      "metadata": {
        "id": "3wKTCm03oEsS",
        "colab_type": "code",
        "colab": {}
      },
      "source": [
        ""
      ],
      "execution_count": 0,
      "outputs": []
    }
  ]
}