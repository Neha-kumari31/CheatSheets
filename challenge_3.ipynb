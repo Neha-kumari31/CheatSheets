{
  "nbformat": 4,
  "nbformat_minor": 0,
  "metadata": {
    "colab": {
      "name": "challenge 3.ipynb",
      "version": "0.3.2",
      "provenance": [],
      "include_colab_link": true
    },
    "kernelspec": {
      "name": "python3",
      "display_name": "Python 3"
    }
  },
  "cells": [
    {
      "cell_type": "markdown",
      "metadata": {
        "id": "view-in-github",
        "colab_type": "text"
      },
      "source": [
        "<a href=\"https://colab.research.google.com/github/Neha-kumari31/CheatSheets/blob/master/challenge_3.ipynb\" target=\"_parent\"><img src=\"https://colab.research.google.com/assets/colab-badge.svg\" alt=\"Open In Colab\"/></a>"
      ]
    },
    {
      "cell_type": "code",
      "metadata": {
        "id": "mqqQVbxPgznU",
        "colab_type": "code",
        "colab": {}
      },
      "source": [
        ""
      ],
      "execution_count": 0,
      "outputs": []
    },
    {
      "cell_type": "markdown",
      "metadata": {
        "id": "kA8XNYd_g0G-",
        "colab_type": "text"
      },
      "source": [
        "If we list all the natural numbers below 10 that are multiples of 3 or 5, we get 3, 5, 6 and 9. The sum of these multiples is 23.\n",
        "\n",
        "Find the sum of all the multiples of 3 or 5 below 1000.\n",
        "\n",
        "If you finish early, think about efficiency, and generalizing your solution. Hint: The concept of \"triangular numbers\" may come in handy.\n"
      ]
    },
    {
      "cell_type": "code",
      "metadata": {
        "id": "RkikPH5fhCNy",
        "colab_type": "code",
        "colab": {}
      },
      "source": [
        "list=[x ]"
      ],
      "execution_count": 0,
      "outputs": []
    },
    {
      "cell_type": "code",
      "metadata": {
        "id": "Qqjj9j4ZhQ8J",
        "colab_type": "code",
        "outputId": "c7fcc62b-1088-4c79-a6db-b8dea17c1174",
        "colab": {
          "base_uri": "https://localhost:8080/",
          "height": 33
        }
      },
      "source": [
        "def sum():\n",
        "  sum=0\n",
        "  for x in range(1000):\n",
        "    if x %3 ==0 or x % 5==0:\n",
        "       sum = sum + x\n",
        "  return sum\n",
        "sum()"
      ],
      "execution_count": 0,
      "outputs": [
        {
          "output_type": "execute_result",
          "data": {
            "text/plain": [
              "233168"
            ]
          },
          "metadata": {
            "tags": []
          },
          "execution_count": 3
        }
      ]
    },
    {
      "cell_type": "code",
      "metadata": {
        "id": "8OLxjnchi3Om",
        "colab_type": "code",
        "outputId": "5165e62b-f64a-4d9b-f253-a3378e4da083",
        "colab": {
          "base_uri": "https://localhost:8080/",
          "height": 33
        }
      },
      "source": [
        "import numpy as np\n",
        "sum([x for x in range(1000) if (x % 3==0 or x % 5==0) ])"
      ],
      "execution_count": 0,
      "outputs": [
        {
          "output_type": "execute_result",
          "data": {
            "text/plain": [
              "233168"
            ]
          },
          "metadata": {
            "tags": []
          },
          "execution_count": 3
        }
      ]
    },
    {
      "cell_type": "code",
      "metadata": {
        "id": "evKYSpcLvHSD",
        "colab_type": "code",
        "colab": {}
      },
      "source": [
        ""
      ],
      "execution_count": 0,
      "outputs": []
    },
    {
      "cell_type": "markdown",
      "metadata": {
        "id": "03Gdizugvlit",
        "colab_type": "text"
      },
      "source": [
        ""
      ]
    },
    {
      "cell_type": "markdown",
      "metadata": {
        "id": "05y_vkzovllj",
        "colab_type": "text"
      },
      "source": [
        "2)As a young child, the story goes, the famous mathematician Gauss was scolded by his math teacher for not paying attention in class and was told to add up all the numbers from 1 to 100 as a punishment. He instantly answered that the sum was 5050, annoying his teacher even more. How did he know? He summed up pairs of numbers in the sequence that added to 100: `(0,100), (1,99)...(49,51) = 50 * 100 = 5000`\n",
        "and added the 50 left over."
      ]
    },
    {
      "cell_type": "markdown",
      "metadata": {
        "id": "W5MB-37MaasG",
        "colab_type": "text"
      },
      "source": [
        "mport pandas as pd\n",
        "\n",
        "# Data Frame to practice .loc[] techniques on\n",
        "df = pd.DataFrame({'index':[1, 2, 3, 4, 5],\n",
        "                   'name_1':['entry1', 'entry2', 'entry3', 'entry4', 'entry5'],\n",
        "                   'name_2':['entry1', 'entry2', 'entry3', 'entry4', 'entry5'],\n",
        "                   'name_3':['entry1', 'entry2', 'entry3', 'entry4', 'entry5'],\n",
        "                   'name_4':['entry1', 'entry2', 'entry3', 'entry4', 'entry5'],\n",
        "                   'name_5':['entry1', 'entry2', 'entry3', 'entry4', 'entry5']})\n",
        "\n",
        "# Set Index\n",
        "df.set_index('index', inplace=True)\n",
        "\n",
        "print(df)\n",
        "### Select by a Single Label\n",
        "#1 Select and print the '1' Row\n",
        "\n",
        "#2 Select and print Row 1 Label with Column 1 Label to get entry1\n",
        "\n",
        "### Select Multiple Rows Using LISTS\n",
        "#1 Select and print Row Labels 1, 2\n",
        "\n",
        "#2 Select and print Row Labels 1, 3, 5\n",
        "\n",
        "# Now Rows WITH desired Columns\n",
        "#3 Select and print Row Labels 1, 2, 3 with Column Labels 'name_1', 'name_2', 'name_3'\n",
        "\n",
        "#4 Select and print Row Labels 1, 3, 4, 5 with Column Labels 'name_1', 'name_3', 'name_4', 'name_5'"
      ]
    },
    {
      "cell_type": "code",
      "metadata": {
        "id": "DfekjggUaf-0",
        "colab_type": "code",
        "colab": {
          "base_uri": "https://localhost:8080/",
          "height": 117
        },
        "outputId": "897b66a8-0169-4304-8e5e-a3f37badf171"
      },
      "source": [
        "import pandas as pd\n",
        "df = pd.DataFrame({'index':[1, 2, 3, 4, 5],\n",
        "                   'name_1':['entry1', 'entry2', 'entry3', 'entry4', 'entry5'],\n",
        "                   'name_2':['entry1', 'entry2', 'entry3', 'entry4', 'entry5'],\n",
        "                   'name_3':['entry1', 'entry2', 'entry3', 'entry4', 'entry5'],\n",
        "                   'name_4':['entry1', 'entry2', 'entry3', 'entry4', 'entry5'],\n",
        "                   'name_5':['entry1', 'entry2', 'entry3', 'entry4', 'entry5']})\n",
        "print(df)"
      ],
      "execution_count": 18,
      "outputs": [
        {
          "output_type": "stream",
          "text": [
            "   index  name_1  name_2  name_3  name_4  name_5\n",
            "0      1  entry1  entry1  entry1  entry1  entry1\n",
            "1      2  entry2  entry2  entry2  entry2  entry2\n",
            "2      3  entry3  entry3  entry3  entry3  entry3\n",
            "3      4  entry4  entry4  entry4  entry4  entry4\n",
            "4      5  entry5  entry5  entry5  entry5  entry5\n"
          ],
          "name": "stdout"
        }
      ]
    },
    {
      "cell_type": "code",
      "metadata": {
        "id": "xgUs8Yz6arZl",
        "colab_type": "code",
        "colab": {
          "base_uri": "https://localhost:8080/",
          "height": 226
        },
        "outputId": "0d933ba7-cdaf-403f-c089-289fec8f397e"
      },
      "source": [
        "# Set Index\n",
        "df.set_index('index',inplace=True)\n",
        "df"
      ],
      "execution_count": 3,
      "outputs": [
        {
          "output_type": "execute_result",
          "data": {
            "text/html": [
              "<div>\n",
              "<style scoped>\n",
              "    .dataframe tbody tr th:only-of-type {\n",
              "        vertical-align: middle;\n",
              "    }\n",
              "\n",
              "    .dataframe tbody tr th {\n",
              "        vertical-align: top;\n",
              "    }\n",
              "\n",
              "    .dataframe thead th {\n",
              "        text-align: right;\n",
              "    }\n",
              "</style>\n",
              "<table border=\"1\" class=\"dataframe\">\n",
              "  <thead>\n",
              "    <tr style=\"text-align: right;\">\n",
              "      <th></th>\n",
              "      <th>name_1</th>\n",
              "      <th>name_2</th>\n",
              "      <th>name_3</th>\n",
              "      <th>name_4</th>\n",
              "      <th>name_5</th>\n",
              "    </tr>\n",
              "    <tr>\n",
              "      <th>index</th>\n",
              "      <th></th>\n",
              "      <th></th>\n",
              "      <th></th>\n",
              "      <th></th>\n",
              "      <th></th>\n",
              "    </tr>\n",
              "  </thead>\n",
              "  <tbody>\n",
              "    <tr>\n",
              "      <th>1</th>\n",
              "      <td>entry1</td>\n",
              "      <td>entry1</td>\n",
              "      <td>entry1</td>\n",
              "      <td>entry1</td>\n",
              "      <td>entry1</td>\n",
              "    </tr>\n",
              "    <tr>\n",
              "      <th>2</th>\n",
              "      <td>entry2</td>\n",
              "      <td>entry2</td>\n",
              "      <td>entry2</td>\n",
              "      <td>entry2</td>\n",
              "      <td>entry2</td>\n",
              "    </tr>\n",
              "    <tr>\n",
              "      <th>3</th>\n",
              "      <td>entry3</td>\n",
              "      <td>entry3</td>\n",
              "      <td>entry3</td>\n",
              "      <td>entry3</td>\n",
              "      <td>entry3</td>\n",
              "    </tr>\n",
              "    <tr>\n",
              "      <th>4</th>\n",
              "      <td>entry4</td>\n",
              "      <td>entry4</td>\n",
              "      <td>entry4</td>\n",
              "      <td>entry4</td>\n",
              "      <td>entry4</td>\n",
              "    </tr>\n",
              "    <tr>\n",
              "      <th>5</th>\n",
              "      <td>entry5</td>\n",
              "      <td>entry5</td>\n",
              "      <td>entry5</td>\n",
              "      <td>entry5</td>\n",
              "      <td>entry5</td>\n",
              "    </tr>\n",
              "  </tbody>\n",
              "</table>\n",
              "</div>"
            ],
            "text/plain": [
              "       name_1  name_2  name_3  name_4  name_5\n",
              "index                                        \n",
              "1      entry1  entry1  entry1  entry1  entry1\n",
              "2      entry2  entry2  entry2  entry2  entry2\n",
              "3      entry3  entry3  entry3  entry3  entry3\n",
              "4      entry4  entry4  entry4  entry4  entry4\n",
              "5      entry5  entry5  entry5  entry5  entry5"
            ]
          },
          "metadata": {
            "tags": []
          },
          "execution_count": 3
        }
      ]
    },
    {
      "cell_type": "code",
      "metadata": {
        "id": "vgZ0am5Tatfr",
        "colab_type": "code",
        "colab": {
          "base_uri": "https://localhost:8080/",
          "height": 117
        },
        "outputId": "0dd946d1-cf22-4e2b-a6c5-a46050ff8756"
      },
      "source": [
        "#1 Select and print the '1' Row\n",
        "print(df.loc[1])"
      ],
      "execution_count": 6,
      "outputs": [
        {
          "output_type": "stream",
          "text": [
            "name_1    entry1\n",
            "name_2    entry1\n",
            "name_3    entry1\n",
            "name_4    entry1\n",
            "name_5    entry1\n",
            "Name: 1, dtype: object\n"
          ],
          "name": "stdout"
        }
      ]
    },
    {
      "cell_type": "code",
      "metadata": {
        "id": "ZuHIlNY_byG0",
        "colab_type": "code",
        "colab": {
          "base_uri": "https://localhost:8080/",
          "height": 33
        },
        "outputId": "284b3c24-284c-4d4d-84fc-469ffc1211bf"
      },
      "source": [
        "#2 Select and print Row 1 Label with Column 1 Label to get entry1\n",
        "print(df.loc[1,'name_1'])"
      ],
      "execution_count": 7,
      "outputs": [
        {
          "output_type": "stream",
          "text": [
            "entry1\n"
          ],
          "name": "stdout"
        }
      ]
    },
    {
      "cell_type": "code",
      "metadata": {
        "id": "Ak5LVc9BcvAL",
        "colab_type": "code",
        "colab": {
          "base_uri": "https://localhost:8080/",
          "height": 84
        },
        "outputId": "ecd664f5-ced0-49dd-82df-ab660455e703"
      },
      "source": [
        "#1 Select and print Row Labels 1, 2\n",
        "print(df.loc[1:2])"
      ],
      "execution_count": 8,
      "outputs": [
        {
          "output_type": "stream",
          "text": [
            "       name_1  name_2  name_3  name_4  name_5\n",
            "index                                        \n",
            "1      entry1  entry1  entry1  entry1  entry1\n",
            "2      entry2  entry2  entry2  entry2  entry2\n"
          ],
          "name": "stdout"
        }
      ]
    },
    {
      "cell_type": "code",
      "metadata": {
        "id": "x7edvWOpi0a4",
        "colab_type": "code",
        "colab": {
          "base_uri": "https://localhost:8080/",
          "height": 67
        },
        "outputId": "73ea78c9-eae8-4e11-c9f0-eabe12eb342d"
      },
      "source": [
        "list=[1,2]\n",
        "print(df.loc[list])"
      ],
      "execution_count": 19,
      "outputs": [
        {
          "output_type": "stream",
          "text": [
            "   index  name_1  name_2  name_3  name_4  name_5\n",
            "1      2  entry2  entry2  entry2  entry2  entry2\n",
            "2      3  entry3  entry3  entry3  entry3  entry3\n"
          ],
          "name": "stdout"
        }
      ]
    },
    {
      "cell_type": "code",
      "metadata": {
        "id": "902p4Lfic8Rj",
        "colab_type": "code",
        "colab": {
          "base_uri": "https://localhost:8080/",
          "height": 100
        },
        "outputId": "353fa1e3-a251-4983-c6c0-87ca7c5c1435"
      },
      "source": [
        "#Select and print Row Labels 1, 3, 5\n",
        "print(df.loc[1::2])"
      ],
      "execution_count": 10,
      "outputs": [
        {
          "output_type": "stream",
          "text": [
            "       name_1  name_2  name_3  name_4  name_5\n",
            "index                                        \n",
            "1      entry1  entry1  entry1  entry1  entry1\n",
            "3      entry3  entry3  entry3  entry3  entry3\n",
            "5      entry5  entry5  entry5  entry5  entry5\n"
          ],
          "name": "stdout"
        }
      ]
    },
    {
      "cell_type": "code",
      "metadata": {
        "id": "pQvHYdj5dHIs",
        "colab_type": "code",
        "colab": {
          "base_uri": "https://localhost:8080/",
          "height": 100
        },
        "outputId": "a3f004a3-abc9-479a-a383-2b0f0d0ccf12"
      },
      "source": [
        "#Select and print Row Labels 1, 2, 3 with Column Labels 'name_1', 'name_2', 'name_3'\n",
        "print(df.loc[1:3,('name_1', 'name_2', 'name_3')])"
      ],
      "execution_count": 15,
      "outputs": [
        {
          "output_type": "stream",
          "text": [
            "       name_1  name_2  name_3\n",
            "index                        \n",
            "1      entry1  entry1  entry1\n",
            "2      entry2  entry2  entry2\n",
            "3      entry3  entry3  entry3\n"
          ],
          "name": "stdout"
        }
      ]
    },
    {
      "cell_type": "code",
      "metadata": {
        "id": "oh9Bi0GGdmRx",
        "colab_type": "code",
        "colab": {
          "base_uri": "https://localhost:8080/",
          "height": 134
        },
        "outputId": "22e62813-c5fc-49c4-abd1-2af815f7c6ed"
      },
      "source": [
        "#4 Select and print Row Labels 1, 3, 4, 5 with Column Labels 'name_1', 'name_3', 'name_4', 'name_5'\n",
        "print(df.loc[1:,('name_1', 'name_3', 'name_4', 'name_5')])"
      ],
      "execution_count": 16,
      "outputs": [
        {
          "output_type": "stream",
          "text": [
            "       name_1  name_3  name_4  name_5\n",
            "index                                \n",
            "1      entry1  entry1  entry1  entry1\n",
            "2      entry2  entry2  entry2  entry2\n",
            "3      entry3  entry3  entry3  entry3\n",
            "4      entry4  entry4  entry4  entry4\n",
            "5      entry5  entry5  entry5  entry5\n"
          ],
          "name": "stdout"
        }
      ]
    },
    {
      "cell_type": "code",
      "metadata": {
        "id": "o9zczUc6eF7n",
        "colab_type": "code",
        "colab": {
          "base_uri": "https://localhost:8080/",
          "height": 134
        },
        "outputId": "293f24b0-9c6d-4e08-eca8-3ae37a0b3468"
      },
      "source": [
        "name=['name_1', 'name_3', 'name_4', 'name_5']\n",
        "print(df.loc[1:,name])\n"
      ],
      "execution_count": 17,
      "outputs": [
        {
          "output_type": "stream",
          "text": [
            "       name_1  name_3  name_4  name_5\n",
            "index                                \n",
            "1      entry1  entry1  entry1  entry1\n",
            "2      entry2  entry2  entry2  entry2\n",
            "3      entry3  entry3  entry3  entry3\n",
            "4      entry4  entry4  entry4  entry4\n",
            "5      entry5  entry5  entry5  entry5\n"
          ],
          "name": "stdout"
        }
      ]
    },
    {
      "cell_type": "code",
      "metadata": {
        "id": "380jJvTSePGJ",
        "colab_type": "code",
        "colab": {}
      },
      "source": [
        ""
      ],
      "execution_count": 0,
      "outputs": []
    }
  ]
}