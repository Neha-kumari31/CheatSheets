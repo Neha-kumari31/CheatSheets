{
  "nbformat": 4,
  "nbformat_minor": 0,
  "metadata": {
    "colab": {
      "name": "Linear Algebra Cheat Sheet.ipynb",
      "version": "0.3.2",
      "provenance": [],
      "include_colab_link": true
    },
    "kernelspec": {
      "name": "python3",
      "display_name": "Python 3"
    }
  },
  "cells": [
    {
      "cell_type": "markdown",
      "metadata": {
        "id": "view-in-github",
        "colab_type": "text"
      },
      "source": [
        "<a href=\"https://colab.research.google.com/github/Neha-kumari31/CheatSheets/blob/master/Linear_Algebra_PCA_and_Clustering_Cheat_Sheet.ipynb\" target=\"_parent\"><img src=\"https://colab.research.google.com/assets/colab-badge.svg\" alt=\"Open In Colab\"/></a>"
      ]
    },
    {
      "cell_type": "markdown",
      "metadata": {
        "id": "n9p56FSWj2Kc",
        "colab_type": "text"
      },
      "source": [
        "#Resources\n",
        "[Numpy Linear Algebra Documentation](https://docs.scipy.org/doc/numpy-1.15.1/reference/routines.linalg.html)\n",
        "\n",
        "[LaTex Cheat Sheet](https://wch.github.io/latexsheet/latexsheet.pdf)"
      ]
    },
    {
      "cell_type": "markdown",
      "metadata": {
        "id": "JxXVcLmllQjU",
        "colab_type": "text"
      },
      "source": [
        "#Basic Linear Algebra"
      ]
    },
    {
      "cell_type": "code",
      "metadata": {
        "id": "GuZ0KE7clfIR",
        "colab_type": "code",
        "colab": {}
      },
      "source": [
        "import numpy as np\n",
        "import matplotlib.pyplot as plt"
      ],
      "execution_count": 0,
      "outputs": []
    },
    {
      "cell_type": "markdown",
      "metadata": {
        "id": "lFnd8UfylLNl",
        "colab_type": "text"
      },
      "source": [
        "##Scalars"
      ]
    },
    {
      "cell_type": "markdown",
      "metadata": {
        "id": "ODzKTJLGTnBz",
        "colab_type": "text"
      },
      "source": [
        "###Definition\n",
        "A single number. Variables representing scalars are typically written in lower case.\n",
        "\n",
        "Scalars can be whole numbers or decimals.\n",
        "\n",
        "\\begin{align}\n",
        "a = 2\n",
        "\\qquad\n",
        "b = 4.815162342\n",
        "\\end{align}\n",
        "\n",
        "They can be positive, negative, 0 or any other real number.\n",
        "\n",
        "\\begin{align}\n",
        "c = -6.022\\mathrm{e}{+23}\n",
        "\\qquad\n",
        "d = \\pi\n",
        "\\end{align}"
      ]
    },
    {
      "cell_type": "code",
      "metadata": {
        "id": "51IDwjHejk7Q",
        "colab_type": "code",
        "outputId": "90543415-1c32-4752-f192-9dc5cbed2775",
        "colab": {
          "base_uri": "https://localhost:8080/",
          "height": 84
        }
      },
      "source": [
        "scalar = 5\n",
        "vector = [1,2]\n",
        "matrix = [[1,2],\n",
        "          [3,4]]\n",
        "\n",
        "print('Scalar-Vector Multiplication:',np.multiply(scalar, vector))\n",
        "print('Scalar-Matrix Multiplication:\\n',np.multiply(scalar, matrix))"
      ],
      "execution_count": 6,
      "outputs": [
        {
          "output_type": "stream",
          "text": [
            "Scalar-Vector Multiplication: [ 5 10]\n",
            "Scalar-Matrix Multiplication:\n",
            " [[ 5 10]\n",
            " [15 20]]\n"
          ],
          "name": "stdout"
        }
      ]
    },
    {
      "cell_type": "markdown",
      "metadata": {
        "id": "BUFWRe7wmPBW",
        "colab_type": "text"
      },
      "source": [
        "##Vectors"
      ]
    },
    {
      "cell_type": "markdown",
      "metadata": {
        "id": "TRhtzFMwTz0Z",
        "colab_type": "text"
      },
      "source": [
        "###Definition\n",
        "A vector of dimension *n* is an **ordered** collection of *n* elements, which are called **components** (Note, the components of a vector are **not** referred to as \"scalars\"). Vector notation variables are commonly written as a bold-faced lowercase letters or italicized non-bold-faced lowercase characters with an arrow (→) above the letters:\n",
        "\n",
        "Written: $\\vec{v}$ \n",
        "\n",
        "Examples:\n",
        "\n",
        "\\begin{align}\n",
        "   \\vec{a} = \n",
        "   \\begin{bmatrix}\n",
        "           1\\\\\n",
        "           2\n",
        "    \\end{bmatrix}\n",
        "    \\qquad\n",
        "    \\vec{b} =\n",
        "    \\begin{bmatrix}\n",
        "          -1\\\\\n",
        "           0\\\\\n",
        "           2\n",
        "    \\end{bmatrix}\n",
        "    \\qquad\n",
        "    \\vec{c} =\n",
        "    \\begin{bmatrix}\n",
        "           4.5\n",
        "    \\end{bmatrix}\n",
        "    \\qquad\n",
        "    \\vec{d} =\n",
        "    \\begin{bmatrix}\n",
        "           Pl\\\\\n",
        "           a\\\\\n",
        "           b\\\\\n",
        "           \\frac{2}{3}\n",
        "    \\end{bmatrix}\n",
        "\\end{align}\n",
        "\n",
        "The above vectors have dimensions 2, 3, 1, and 4 respectively."
      ]
    },
    {
      "cell_type": "markdown",
      "metadata": {
        "id": "Pzg99dFw-Oj8",
        "colab_type": "text"
      },
      "source": [
        "### Norm of a Vector (Magnitude or length)\n",
        "\n",
        "The *Norm* or *Magnitude* of a vector is  the **length** of the vector. Since a vector is basically a line, if you treat it as the hypotenuse of a triangle you can use the pythagorean theorem to find the equation for the norm of a vector. We're essentially just generalizing the equation for the hypotenuse of a triangle that results from the pythagorean theorem to n dimensional space.\n",
        "\n",
        "We denote the norm of a vector by wrapping it in double pipes. The Norm is the square root of the sum of the squared elements of a vector.\n",
        "\\begin{align}\n",
        "||v|| = \n",
        "\\sqrt{v_{1}^2 + v_{2}^2 + \\ldots + v_{n}^2}\n",
        "\\\\\n",
        "\\vec{a} = \n",
        "\\begin{bmatrix}\n",
        "3 & 7 & 2 & 4\n",
        "\\end{bmatrix}\n",
        "\\\\\n",
        "||a|| = \\sqrt{3^2 + 7^2 + 2^2 + 4^2} \\\\\n",
        "||a|| = \\sqrt{9 + 49 + 4 + 16} \\\\\n",
        "||a|| = \\sqrt{78}\n",
        "\\end{align}\n",
        "\n",
        "\n",
        "Properties of the Norm:\n",
        "\n",
        "* The norm is always positive or zero $||x|| \\geq 0$ \n",
        "\n",
        "* The norm is only equal to zero if all of the elements of the vector are zero.\n",
        "\n",
        "* The Triangle Inequality: $|| x + y ||\\leq ||x|| + ||y||$\n"
      ]
    },
    {
      "cell_type": "code",
      "metadata": {
        "id": "eAe6qIzml3go",
        "colab_type": "code",
        "colab": {
          "base_uri": "https://localhost:8080/",
          "height": 34
        },
        "outputId": "35b85c4e-fa03-4ca0-b57b-c26c335fec4b"
      },
      "source": [
        "def vector_norm(vector):\n",
        "  return (sum([vector[i]**2 for i in range(len(vector))])**.5)\n",
        "vector_norm([2, -15, 6,20])"
      ],
      "execution_count": 1,
      "outputs": [
        {
          "output_type": "execute_result",
          "data": {
            "text/plain": [
              "25.787593916455254"
            ]
          },
          "metadata": {
            "tags": []
          },
          "execution_count": 1
        }
      ]
    },
    {
      "cell_type": "markdown",
      "metadata": {
        "id": "UOr0BCxn-Wlh",
        "colab_type": "text"
      },
      "source": [
        "### Dot Product\n",
        "\n",
        "The dot product of two vectors $\\vec{a}$ and $\\vec{b}$ is a scalar quantity that is equal to the sum of pair-wise products of the components of vectors a and b. An example will make this make much more sense:\n",
        "\n",
        "\\begin{align} \\vec{a} \\cdot \\vec{b} = (a_{1} \\times b_{1}) + (a_{2} \\times b_{2}) + \\ldots + ( a_{n} \\times b_{n}) \\end{align}\n",
        "\n",
        "Example:\n",
        "\n",
        "\\begin{align}\n",
        "\\vec{a} = \n",
        "\\begin{bmatrix}\n",
        "3 & 7 & 2 & 4\n",
        "\\end{bmatrix}\n",
        "\\qquad\n",
        "\\vec{b} = \n",
        "\\begin{bmatrix}\n",
        "4 & 1 & 12 & 6\n",
        "\\end{bmatrix}\n",
        "\\end{align}\n",
        "\n",
        "The dot product of two vectors would be:\n",
        "\\begin{align}\n",
        "a \\cdot b = (3)(4) + (7)(1) + (2)(12) + (4)(6) \\\\ \n",
        "= 12 + 7 + 24 + 24  \\\\\n",
        "= 67\n",
        "\\end{align}\n",
        "\n",
        "The dot product is commutative: $ a \\cdot b = b \\cdot a$\n",
        "\n",
        "The dot product is distributive: $a \\cdot (b + c) = a \\cdot b + a \\cdot c$\n",
        "\n",
        "Two vectors must have the same number of components in order for the dot product to exist. If they lengths differ the dot product is undefined."
      ]
    },
    {
      "cell_type": "code",
      "metadata": {
        "id": "d1hxvXtLqRhN",
        "colab_type": "code",
        "colab": {}
      },
      "source": [
        "def vector_dot_product(vector1, vector2):\n",
        "  assert len(vector1) == len(vector2), 'Expected Vectors of Equal Length'\n",
        "  \n",
        "  return sum([vector1[i]*vector2[i] for i in range(len(vector1))])"
      ],
      "execution_count": 0,
      "outputs": []
    },
    {
      "cell_type": "markdown",
      "metadata": {
        "id": "IUeBZtVr-nro",
        "colab_type": "text"
      },
      "source": [
        "### Cross Product\n",
        "\n",
        "The Cross Product is the vector equivalent of multiplication. The result is a third vector that is perpendicular to the first two vectors.\n",
        "\n",
        "It is written with a regular looking multiplication sign like $a \\times b$ but it is read as \"a cross b\"\n",
        "\n",
        "The cross product equation is a little complicated, and gaining an intuition for it is going to take a little bit more time than we have here. I think it's the least useful of the vector operations, but I'll give you a short example anyway.\n",
        "\n",
        "\n",
        "Assume that we have vectors $x$ and $y$.\n",
        "\n",
        "\\begin{align}\n",
        "x = \\begin{bmatrix} x_1 & x_2 & x_3 \\end{bmatrix}\n",
        "\\qquad\n",
        "y = \\begin{bmatrix} y_1 & y_2 & y_3 \\end{bmatrix}\n",
        "\\end{align}\n",
        "\n",
        "The cross product can be found by taking these two vectors and adding a third unit vector to create a 3x3 matrix and then finding the determinant of the 3x3 matrix like follows:\n",
        "\n",
        "$$\n",
        "x = \\begin{vmatrix} i & j & k \\\\  x_1 & x_2 & x_3 \\\\  y_1 & y_2 & y_3 \\end{vmatrix} = i\\begin{vmatrix} x_2 & x_3 \\\\ y_2 & y_3 \\end{vmatrix} + j\\begin{vmatrix}x_1 & x_3 \\\\y_1 & y_3\\end{vmatrix} + k\\begin{vmatrix}x_1 & x_2 \\\\y_1 & y_2\\end{vmatrix} = \n",
        "\\\\\n",
        "\\\\\n",
        "i(x_2y_3-x_3y_2) - j(x_1y_3-x_3y_1) + k(x_1y_2-x_2y_1)\n",
        "$$\n",
        "\n",
        "\n"
      ]
    },
    {
      "cell_type": "markdown",
      "metadata": {
        "id": "drCVY_F8SaPI",
        "colab_type": "text"
      },
      "source": [
        "## Matrices"
      ]
    },
    {
      "cell_type": "markdown",
      "metadata": {
        "id": "dKYeFAUbaP4j",
        "colab_type": "text"
      },
      "source": [
        "###Definition\n",
        "A rectangular grid of numbers arranged in rows and columns. Variables that represent matrices are typically written as capital letters (boldfaced as well if you want to be super formal).\n",
        "\n",
        "\\begin{align}\n",
        "A = \n",
        "    \\begin{bmatrix}\n",
        "           1 & 2 & 3\\\\\n",
        "           4 & 5 & 6\\\\\n",
        "           7 & 8 & 9\n",
        "    \\end{bmatrix}\n",
        "    \\qquad\n",
        "    B = \\begin{bmatrix}\n",
        "           1 & 2 & 3\\\\\n",
        "           4 & 5 & 6\n",
        "    \\end{bmatrix}\n",
        " \\end{align}\n"
      ]
    },
    {
      "cell_type": "markdown",
      "metadata": {
        "id": "4oKAHHil-0bm",
        "colab_type": "text"
      },
      "source": [
        "### Dimensionality\n",
        "\n",
        "The number of rows and columns that a matrix has is called its **dimension**.\n",
        "\n",
        "When listing the dimension of a matrix we always list rows first and then columns. \n",
        "\n",
        "The dimension of matrix A is 3x3, and the dimensions of B are 2x3"
      ]
    },
    {
      "cell_type": "markdown",
      "metadata": {
        "id": "VqWzluoD-9Pf",
        "colab_type": "text"
      },
      "source": [
        "### Matrix Equality\n",
        "\n",
        "In order for two Matrices to be equal the following conditions must be true:\n",
        "\n",
        "1) They must have the same dimensions.\n",
        "\n",
        "2) Corresponding elements must be equal.\n",
        "\n",
        "\\begin{align}\n",
        "    \\begin{bmatrix}\n",
        "           1 & 4\\\\\n",
        "           2 & 5\\\\\n",
        "           3 & 6 \n",
        "    \\end{bmatrix} \n",
        "    \\neq\n",
        "    \\begin{bmatrix}\n",
        "           1 & 2 & 3\\\\\n",
        "           4 & 5 & 6\n",
        "    \\end{bmatrix}\n",
        "\\end{align}"
      ]
    },
    {
      "cell_type": "markdown",
      "metadata": {
        "id": "MYwxF4R8_Gnf",
        "colab_type": "text"
      },
      "source": [
        "### Matrix Multiplication\n",
        "\n",
        "You can multipy any two matrices where the number of  columns of the first matrix is equal to the number of rows of the second matrix.\n",
        "\n",
        "The unused dimensions of the factor matrices tell you what the dimensions of the product matrix will be.\n",
        "\n",
        "<center>![Matrix Multiplication Dimensions](https://cdn.kastatic.org/googleusercontent/qCWpcd2cPFXad5omuF_ulaYlaBomeBw5RS_9GYLUJg9lZd25SIuvConuu_CfoGBzZJjZGr05602QTJyR0JImBeG39A)</center>\n",
        "\n",
        "There is no commutative property of matrix multiplication (you can't switch the order of the matrices and always get the same result). \n",
        "\n",
        "Matrix multiplication is best understood in terms of the dot product. Remember:\n",
        "\n",
        "\\begin{align} \\vec{a} \\cdot \\vec{b} = (a_{1} \\times b_{1}) + (a_{2} \\times b_{2}) + \\ldots + ( a_{n} \\times b_{n}) \\end{align}\n",
        "\n",
        "To multiply to matrices together, we will take the dot product of each row of the first matrix with each column of the second matrix. The position of the resulting entries will correspond to the row number and column number of the row and column vector that were used to find that scalar. Lets look at an example to make this more clear.\n",
        "\n",
        "<center>![Dot Product Matrix Multiplication](https://www.mathsisfun.com/algebra/images/matrix-multiply-a.svg)</center>\n",
        "\n",
        "\\begin{align}\n",
        "\\begin{bmatrix}\n",
        "1 & 2 & 3 \\\\\n",
        "4 & 5 & 6\n",
        "\\end{bmatrix} \n",
        "\\times\n",
        "\\begin{bmatrix}\n",
        "7 & 8 \\\\\n",
        "9 & 10 \\\\\n",
        "11 & 12\n",
        "\\end{bmatrix} \n",
        "=\n",
        "\\begin{bmatrix}\n",
        "(1)(7)+(2)(9)+(3)(11) & (1)(8)+(2)(10)+(3)(12)\\\\\n",
        "(4)(7)+(5)(9)+(6)(11) & (4)(8)+(5)(10)+(6)(12)\n",
        "\\end{bmatrix}\n",
        "=\n",
        "\\begin{bmatrix}\n",
        "(7)+(18)+(33) & (8)+(20)+(36)\\\\\n",
        "(28)+(45)+(66) & (32)+(50)+(72)\n",
        "\\end{bmatrix}\n",
        "=\n",
        "\\begin{bmatrix}\n",
        "58 & 64\\\\\n",
        "139 & 154\n",
        "\\end{bmatrix}\n",
        "\\end{align}"
      ]
    },
    {
      "cell_type": "code",
      "metadata": {
        "id": "rz_hYjvlWteA",
        "colab_type": "code",
        "colab": {
          "base_uri": "https://localhost:8080/",
          "height": 229
        },
        "outputId": "f5fb69fa-738a-47e5-a3e3-c02a0103983d"
      },
      "source": [
        "a = [3,6,9]\n",
        "b = np.array(a)\n",
        "b.T\n",
        "#array([3, 6, 9])         #Here it didn't transpose because 'a' is 1 dimensional\n",
        "b = np.array([a])\n",
        "b.T\n",
        "#array([[3],              #Here it did transpose because a is 2 dimensional\n",
        " #      [6],\n",
        " #      [9]])"
      ],
      "execution_count": 3,
      "outputs": [
        {
          "output_type": "error",
          "ename": "NameError",
          "evalue": "ignored",
          "traceback": [
            "\u001b[0;31m---------------------------------------------------------------------------\u001b[0m",
            "\u001b[0;31mNameError\u001b[0m                                 Traceback (most recent call last)",
            "\u001b[0;32m<ipython-input-3-caa4552d9840>\u001b[0m in \u001b[0;36m<module>\u001b[0;34m()\u001b[0m\n\u001b[1;32m      1\u001b[0m \u001b[0ma\u001b[0m \u001b[0;34m=\u001b[0m \u001b[0;34m[\u001b[0m\u001b[0;36m3\u001b[0m\u001b[0;34m,\u001b[0m\u001b[0;36m6\u001b[0m\u001b[0;34m,\u001b[0m\u001b[0;36m9\u001b[0m\u001b[0;34m]\u001b[0m\u001b[0;34m\u001b[0m\u001b[0;34m\u001b[0m\u001b[0m\n\u001b[0;32m----> 2\u001b[0;31m \u001b[0mb\u001b[0m \u001b[0;34m=\u001b[0m \u001b[0mnp\u001b[0m\u001b[0;34m.\u001b[0m\u001b[0marray\u001b[0m\u001b[0;34m(\u001b[0m\u001b[0ma\u001b[0m\u001b[0;34m)\u001b[0m\u001b[0;34m\u001b[0m\u001b[0;34m\u001b[0m\u001b[0m\n\u001b[0m\u001b[1;32m      3\u001b[0m \u001b[0mb\u001b[0m\u001b[0;34m.\u001b[0m\u001b[0mT\u001b[0m\u001b[0;34m\u001b[0m\u001b[0;34m\u001b[0m\u001b[0m\n\u001b[1;32m      4\u001b[0m \u001b[0;31m#array([3, 6, 9])         #Here it didn't transpose because 'a' is 1 dimensional\u001b[0m\u001b[0;34m\u001b[0m\u001b[0;34m\u001b[0m\u001b[0;34m\u001b[0m\u001b[0m\n\u001b[1;32m      5\u001b[0m \u001b[0mb\u001b[0m \u001b[0;34m=\u001b[0m \u001b[0mnp\u001b[0m\u001b[0;34m.\u001b[0m\u001b[0marray\u001b[0m\u001b[0;34m(\u001b[0m\u001b[0;34m[\u001b[0m\u001b[0ma\u001b[0m\u001b[0;34m]\u001b[0m\u001b[0;34m)\u001b[0m\u001b[0;34m\u001b[0m\u001b[0;34m\u001b[0m\u001b[0m\n",
            "\u001b[0;31mNameError\u001b[0m: name 'np' is not defined"
          ]
        }
      ]
    },
    {
      "cell_type": "code",
      "metadata": {
        "id": "7uS2thLE1NuT",
        "colab_type": "code",
        "colab": {}
      },
      "source": [
        "def dimension_match(matrix1,matrix2):\n",
        "  return (len(matrix1[0]) == len(matrix2))"
      ],
      "execution_count": 0,
      "outputs": []
    },
    {
      "cell_type": "code",
      "metadata": {
        "id": "koJt59CS7mOh",
        "colab_type": "code",
        "colab": {}
      },
      "source": [
        "def rectangular_matrix(matrix):\n",
        "  for i in range(len(matrix)):\n",
        "    if len(matrix[i]) != len(matrix[0]):\n",
        "      return False\n",
        "  return True"
      ],
      "execution_count": 0,
      "outputs": []
    },
    {
      "cell_type": "code",
      "metadata": {
        "id": "viTDPWPcAsml",
        "colab_type": "code",
        "colab": {}
      },
      "source": [
        "def transpose_matrix(matrix):\n",
        "  return list(map(list, zip(*matrix)))"
      ],
      "execution_count": 0,
      "outputs": []
    },
    {
      "cell_type": "code",
      "metadata": {
        "id": "NSs71QJDzIwJ",
        "colab_type": "code",
        "colab": {}
      },
      "source": [
        "def matrix_multiply(matrix1,matrix2):\n",
        "  assert dimension_match(matrix1,matrix2), 'Matrix1 Columns != Matrix2 Rows'\n",
        "\n",
        "  matrix2 = transpose_matrix(matrix2)\n",
        "  product = [[] for _ in range(len(matrix1))]\n",
        "  \n",
        "  for i in range(len(matrix1)):\n",
        "    for j in range(len(matrix2)):\n",
        "      assert (len(matrix1[i]) == len(matrix2[j])), 'Matrices Must Be Rectangular'\n",
        "      product[i].append(vector_dot_product(matrix1[i],matrix2[j]))\n",
        "  return product"
      ],
      "execution_count": 0,
      "outputs": []
    },
    {
      "cell_type": "markdown",
      "metadata": {
        "id": "aJt-S8zA_Lk9",
        "colab_type": "text"
      },
      "source": [
        "###Transpose\n",
        "\n",
        "A transposed matrix is one whose rows are the columns of the original and whose columns are the rows of the original.\n",
        "\n",
        "Common notation for the transpose of a matrix is to have a capital $T$ superscript or a tick mark:\n",
        "\n",
        "\\begin{align}\n",
        "B^{T}\n",
        "\\qquad\n",
        "B^{\\prime}\n",
        "\\end{align}\n",
        "\n",
        "The first is read \"B transpose\" the second is sometimes read as \"B prime\" but can also be read as \"B transpose\".\n",
        "\n",
        "The transpose of any matrix can be found easily by fixing the elements on the main diagonal and flipping the placement of all other elements across that diagonal.\n",
        "\n",
        "\\begin{align}\n",
        "  B = \n",
        "\\begin{bmatrix}\n",
        "  1 & 2 & 3 \\\\\n",
        "  4 & 5 & 6\n",
        "\\end{bmatrix}\n",
        "  \\qquad\n",
        "  B^{T} = \n",
        "  \\begin{bmatrix}\n",
        "  1 & 4 \\\\\n",
        "  2 & 5 \\\\\n",
        "  3 & 6\n",
        "  \\end{bmatrix}\n",
        "\\end{align}"
      ]
    },
    {
      "cell_type": "markdown",
      "metadata": {
        "id": "KHBlcWmA_Tl8",
        "colab_type": "text"
      },
      "source": [
        "The square of the norm of a vector is equivalent to the dot product of a vector with itself.\n",
        "\n",
        "The dot product of a vector and itself can be rewritten as that vector times the transpose of itself."
      ]
    },
    {
      "cell_type": "markdown",
      "metadata": {
        "id": "fSfLokfx_T4x",
        "colab_type": "text"
      },
      "source": [
        "### Square Matrices:\n",
        "\n",
        "A square matrix is any matrix that has the same number of rows as columns:\n",
        "\n",
        "\\begin{align}\n",
        "A =\n",
        "\\begin{bmatrix}\n",
        "  a_{1,1}\n",
        "\\end{bmatrix}\n",
        "\\qquad\n",
        "B =\n",
        "\\begin{bmatrix}\n",
        "b_{1,1} & b_{1,2} \\\\\n",
        "b_{2,1} & b_{2,2}\n",
        "\\end{bmatrix}\n",
        "\\qquad\n",
        "C =\n",
        "\\begin{bmatrix}\n",
        "c_{1,1} & c_{1,2} & c_{1,3} \\\\\n",
        "c_{2,1} & c_{2,2} & c_{2,3} \\\\\n",
        "c_{3,1} & c_{3,2} & c_{3,3} \n",
        "\\end{bmatrix}\n",
        "\\end{align}\n",
        "\n",
        "### Special Kinds of Square Matrices\n",
        "\n",
        "**Diagonal:** Values on the main diagonal, zeroes everywhere else.\n",
        "\n",
        "\\begin{align}\n",
        "A =\n",
        "\\begin{bmatrix}\n",
        "a_{1,1} & 0 & 0 \\\\\n",
        "0 & a_{2,2} & 0 \\\\\n",
        "0 & 0 & a_{3,3} \n",
        "\\end{bmatrix}\n",
        "\\end{align}\n",
        "\n",
        "**Upper Triangular:** Values on and above the main diagonal, zeroes everywhere else.\n",
        "\n",
        "\\begin{align}\n",
        "B =\n",
        "\\begin{bmatrix}\n",
        "b_{1,1} & b_{1,2} & b_{1,3} \\\\\n",
        "0 & b_{2,2} & b_{2,3} \\\\\n",
        "0 & 0 & b_{3,3} \n",
        "\\end{bmatrix}\n",
        "\\end{align}\n",
        "\n",
        "**Lower Triangular:** Values on and below the main diagonal, zeroes everywhere else.\n",
        "\n",
        "\\begin{align}\n",
        "C =\n",
        "\\begin{bmatrix}\n",
        "c_{1,1} & 0 & 0 \\\\\n",
        "c_{2,1} & c_{2,2} & 0 \\\\\n",
        "c_{3,1} & c_{3,2} & c_{3,3} \n",
        "\\end{bmatrix}\n",
        "\\end{align}\n",
        "\n",
        "**Identity Matrix:** A diagonal matrix with ones on the main diagonal and zeroes everywhere else. The product of the any square matrix and the identity matrix is the original square matrix $AI == A$. Also, any matrix multiplied by its inverse will give the identity matrix as its product.  $AA^{-1} = I$\n",
        "\n",
        "\\begin{align}\n",
        "D =\n",
        "\\begin{bmatrix}\n",
        "  1\n",
        "\\end{bmatrix}\n",
        "\\qquad\n",
        "E =\n",
        "\\begin{bmatrix}\n",
        "1 & 0 \\\\\n",
        "0 & 1\n",
        "\\end{bmatrix}\n",
        "\\qquad\n",
        "F =\n",
        "\\begin{bmatrix}\n",
        "1 & 0 & 0 \\\\\n",
        "0 & 1 & 0 \\\\\n",
        "0 & 0 & 1 \n",
        "\\end{bmatrix}\n",
        "\\end{align}\n",
        "\n",
        "**Symmetric:** The numbers above the main diagonal are mirrored below/across the main diagonal.\n",
        "\n",
        "\\begin{align}\n",
        "G =\n",
        "\\begin{bmatrix}\n",
        "1 & 4 & 5 \\\\\n",
        "4 & 2 & 6 \\\\\n",
        "5 & 6 & 3 \n",
        "\\end{bmatrix}\n",
        "\\end{align}\n",
        "\n",
        "\n"
      ]
    },
    {
      "cell_type": "markdown",
      "metadata": {
        "id": "rBwAaji5San4",
        "colab_type": "text"
      },
      "source": [
        "### Determinant\n",
        "\n",
        "The determinant is a property that all square matrices possess and is denoted $det(A)$ or using pipes $|A|$\n",
        "\n",
        "The equation given for finding the determinant of a 2x2 matrix is as follows:\n",
        "\n",
        "\\begin{align}\n",
        "A = \\begin{bmatrix}\n",
        "a & b \\\\\n",
        "c & d\n",
        "\\end{bmatrix}\n",
        "\\qquad\n",
        "|A| = ad-bc\n",
        "\\end{align}\n",
        "\n",
        "The determinant of larger square matrices recursively by finding the determinats of the smaller matrics that make up the large matrix.\n",
        "\n",
        "For example:\n",
        "\n",
        "<center><img src=\"https://wikimedia.org/api/rest_v1/media/math/render/svg/14f2f2a449d6d152ee71261e47551aa0a31c801e\" width=500></center>\n",
        "\n",
        "The above equation is **very** similar to the equation that we use to find the cross-product of a 3x3 matrix. The only difference is the negative sign in front of the $b$. "
      ]
    },
    {
      "cell_type": "code",
      "metadata": {
        "id": "X63lmisa8SRx",
        "colab_type": "code",
        "colab": {}
      },
      "source": [
        "def square_matrix(matrix):\n",
        "  for i in range(len(matrix)):\n",
        "    if len(matrix[i]) != len(matrix):\n",
        "      return False\n",
        "  return True"
      ],
      "execution_count": 0,
      "outputs": []
    },
    {
      "cell_type": "code",
      "metadata": {
        "id": "T7JidJgk5fDA",
        "colab_type": "code",
        "colab": {}
      },
      "source": [
        "def matrix_determinant(matrix):\n",
        "  assert square_matrix(matrix), 'Expected Square Matrix'\n",
        "  \n",
        "  #if a 2x2 matrix, solve\n",
        "  if len(matrix) == len(matrix[0]) == 2:\n",
        "    return (((matrix[0][0])*(matrix[1][1]))-((matrix[1][0])*(matrix[0][1])))\n",
        "  \n",
        "  total = 0\n",
        "  \n",
        "  #iterate over every column\n",
        "  for column in range(len(matrix)):\n",
        "    #submatrix of matrix excluding the top row\n",
        "    submatrix = [x[:] for x in matrix][1:]\n",
        "    \n",
        "    #create sub-sub-matrices\n",
        "    for i in range(len(submatrix)): \n",
        "      submatrix[i] = submatrix[i][0:column] + submatrix[i][column+1:] \n",
        "    \n",
        "    #find the sign by raising -1 to either 0 or 1\n",
        "    sign = (-1)**column\n",
        "    \n",
        "    #calculate the sub_determinant by recursion of matrix_determinant\n",
        "    sub_determinant = matrix_determinant(submatrix)\n",
        "    \n",
        "    #add the sub_determinant to the total\n",
        "    total += sign * matrix[0][column] * sub_determinant \n",
        "    \n",
        "  return total"
      ],
      "execution_count": 0,
      "outputs": []
    },
    {
      "cell_type": "markdown",
      "metadata": {
        "id": "wd-7IDM2-zcl",
        "colab_type": "text"
      },
      "source": [
        "#### What leads to a 0 determinant?\n",
        " \n",
        " A square matrix that has a determinant of 0 is known as a \"singular\" matrix. One thing that can lead to a matrix having a determinant of 0 is if two rows or columns in the matrix are perfectly collinear. Another way of saying this is that the determinant will be zero if the rows or columns of a matrix are not linearly dependent. \n",
        " \n",
        "One of the most common ways that a matrix can end up having rows that are linearly dependent is if one column a multiple of another column. Lets look at an example:\n",
        "\n",
        "\\begin{align}\n",
        "C =\\begin{bmatrix}\n",
        "  1 & 5 & 2 \\\\\n",
        "  2 & 7 & 4 \\\\\n",
        "  3 & 2 & 6\n",
        "\\end{bmatrix}\n",
        "\\end{align}\n",
        "\n",
        "Look at the columns of the above matrix, column 3 is exactly double column 1. (could be any multiple or fraction) Think about if you had some measure in a dataset of distance in miles, but then you also wanted to convert its units to feet, so you create another column and multiply the mile measure by 5,280 (Thanks Imperial System). But then you forget to drop one of the columns so you end up with two columns that are linearly dependent which causes the determinant of your dataframe to be 0 and will cause certain algorithms to fail. We'll go deeper into this concept next week (this can cause problems with linear regression) so just know that matrices that have columns that are a multiple or fraction of another column will cause the determinant of that matrix to be 0.\n",
        " \n",
        " For more details about when a matrix is invertible google the \"[Invertible Matrix Theorem](https://en.wikipedia.org/wiki/Invertible_matrix#The_invertible_matrix_theorem)\" but be prepared for some heavy linear algebra jargon."
      ]
    },
    {
      "cell_type": "markdown",
      "metadata": {
        "id": "8aGG5d4HSauH",
        "colab_type": "text"
      },
      "source": [
        "## Inverse\n",
        "\n",
        " The inverse is like the reciprocal of the matrix that was used to generate it. Just like $\\frac{1}{8}$ is the reciprocal of 8, $A^{-1}$ acts like the reciprocal of $A$.  The equation for finding the determinant of a 2x2 matrix is as follows:\n",
        " \n",
        " \\begin{align}\n",
        "A = \\begin{bmatrix}\n",
        "a & b \\\\\n",
        "c & d\n",
        "\\end{bmatrix}\n",
        "\\qquad\n",
        "A^{-1} = \\frac{1}{ad-bc}\\begin{bmatrix}\n",
        "d & -b\\\\\n",
        "-c & a\n",
        "\\end{bmatrix}\n",
        "\\end{align}\n",
        "\n",
        "### What happens if we multiply a matrix by its inverse?\n",
        "\n",
        "The product of a matrix multiplied by its inverse is the identity matrix of the same dimensions as the original matrix. There is no concept of \"matrix division\" in linear algebra, but multiplying a matrix by its inverse is very similar since $8\\times\\frac{1}{8} = 1$. \n",
        "\n",
        "\\begin{align}\n",
        "A^{-1}A = I \n",
        "\\end{align}\n",
        "\n",
        "### Not all matrices are invertible\n",
        "\n",
        "Matrices that are not square are not invertible.\n",
        " \n",
        " A matrix is invertible if and only if its determinant is non-zero. You'll notice that the fraction on the left side of the matrix is $\\frac{1}{det(A)}$.\n",
        " \n",
        " As you know, dividing anything by 0 leads to an undefined quotient. Therefore, if the determinant of a matrix is 0, then the entire inverse becomes undefined. "
      ]
    },
    {
      "cell_type": "markdown",
      "metadata": {
        "id": "FhHQ7ltEkxRJ",
        "colab_type": "text"
      },
      "source": [
        "#Statistics"
      ]
    },
    {
      "cell_type": "markdown",
      "metadata": {
        "id": "1eF6horugVIl",
        "colab_type": "text"
      },
      "source": [
        "## Variance\n",
        "\n",
        "Variance is a measure of the spread of numbers in a dataset. Variance is the average of the squared differences from the mean. \n",
        "\n",
        "$\\overline{X}$ is the mean of the dataset.\n",
        "\n",
        "$N$ is the total number of observations.\n",
        "\n",
        "$v$ or variance is sometimes denoted by a lowercase v or $\\sigma^{2}$.\n",
        "\n",
        "\\begin{align}\n",
        "v = \\frac{\\sum{(X_{i} - \\overline{X})^{2}} }{N}\n",
        "\\end{align}"
      ]
    },
    {
      "cell_type": "code",
      "metadata": {
        "id": "YaL-WuDKtKI9",
        "colab_type": "code",
        "colab": {}
      },
      "source": [
        "def mean(a_list):\n",
        "  return sum(a_list)/len(a_list)"
      ],
      "execution_count": 0,
      "outputs": []
    },
    {
      "cell_type": "code",
      "metadata": {
        "id": "eJt0feEFlAE1",
        "colab_type": "code",
        "colab": {
          "base_uri": "https://localhost:8080/",
          "height": 34
        },
        "outputId": "69e1898d-3d29-49ac-a4b1-e4cf3098dd15"
      },
      "source": [
        "def variance(a_list):\n",
        "  return sum([((entry-mean(a_list))**2) for entry in a_list])/len(a_list)\n",
        "variance( [3505, 2400, 3027, 2798, 3700, 3250, 2689])  "
      ],
      "execution_count": 4,
      "outputs": [
        {
          "output_type": "execute_result",
          "data": {
            "text/plain": [
              "183761.06122448976"
            ]
          },
          "metadata": {
            "tags": []
          },
          "execution_count": 4
        }
      ]
    },
    {
      "cell_type": "markdown",
      "metadata": {
        "id": "5kHEYk3Ziaad",
        "colab_type": "text"
      },
      "source": [
        "## Standard Deviation\n",
        "The standard deviation is $\\sqrt(variance)$\n",
        "\n",
        "### So why would we use one over the other?\n",
        "\n",
        "Taking the square root of the variance will put the measurement back in the same units as the mean. The Standard Deviation is the average distance from the mean."
      ]
    },
    {
      "cell_type": "code",
      "metadata": {
        "id": "sT37ipwrmNCE",
        "colab_type": "code",
        "colab": {}
      },
      "source": [
        "def stdv(a_list):\n",
        "  return (variance(a_list)**.5)"
      ],
      "execution_count": 0,
      "outputs": []
    },
    {
      "cell_type": "markdown",
      "metadata": {
        "id": "VOFz37RxhX4N",
        "colab_type": "text"
      },
      "source": [
        "## Covariance\n",
        "\n",
        "Covariance is a measure of how changes in one variable are associated with changes in a second variable.\n",
        "\n",
        "<center>![Covariance](https://www.statisticshowto.datasciencecentral.com/wp-content/uploads/2013/12/g-covariance.gif)</center>\n",
        "\n",
        "\\begin{align}\n",
        "cov = \\frac{\\sum{(X_{i} - \\overline{X})(Y_{i} - \\overline{Y})} }{N-1}\n",
        "\\end{align}\n",
        "\n",
        "### Interpeting Covariance\n",
        "\n",
        "A large positive or negative covariance indicates a strong relationship between two variables. However, you can't necessarily compare covariances between sets of variables that have a different scale, since the covariance values are unbounded, they could take on arbitrarily high or low values. This means that you can't compare the covariances between variables that have a different scale. A variable that has a large scale will always have a higher covariance than a variable with an equally strong relationship, yet smaller scale. This means that we need a way to regularlize."
      ]
    },
    {
      "cell_type": "markdown",
      "metadata": {
        "id": "YDajsMPwhlZU",
        "colab_type": "text"
      },
      "source": [
        "## The Variance-Covariance Matrix\n",
        "\n",
        "A matrix that compares each variable with every other variable in a dataset and returns the variance values along the main diagonal, and covariance values everywhere else. "
      ]
    },
    {
      "cell_type": "markdown",
      "metadata": {
        "id": "vaoTvHL_htKw",
        "colab_type": "text"
      },
      "source": [
        "## Correlation Coefficient\n",
        "\n",
        "The measure of spread of a variable is the Standard Deviation. If we divide our covariance values by the product of the standard deviations of the two variables, we'll end up with what's called the Correlation Coefficient. \n",
        "\n",
        "Correlation Coefficients have a fixed range from -1 to +1 with 0 representing no linear relationship between the data. \n",
        "\n",
        "In most use cases the correlation coefficient is an improvement over measures of covariance because:\n",
        "\n",
        "- Covariance can take on practically any number while a correlation is limited: -1 to +1.\n",
        "- Because of it’s numerical limitations, correlation is more useful for determining how strong the relationship is between the two variables.\n",
        "- Correlation does not have units. Covariance always has units\n",
        "- Correlation isn’t affected by changes in the center (i.e. mean) or scale of the variables\n",
        "\n",
        "[Statistics How To - Covariance](https://www.statisticshowto.datasciencecentral.com/covariance/)\n",
        "\n",
        "The correlation coefficient is usually represented by a lower case $r$.\n",
        "\n",
        "\\begin{align}\n",
        "r = \\frac{cov(X,Y)}{\\sigma_{X}\\sigma_{Y}}\n",
        "\\end{align}"
      ]
    },
    {
      "cell_type": "markdown",
      "metadata": {
        "id": "LvGHXOyLqxUE",
        "colab_type": "text"
      },
      "source": [
        "# Intermediate Linear Algebra"
      ]
    },
    {
      "cell_type": "markdown",
      "metadata": {
        "id": "QnaCekp1h7iK",
        "colab_type": "text"
      },
      "source": [
        "## Orthogonality\n",
        "\n",
        "Orthogonality is another word for \"perpendicularity\". Two vectors or matrices that are perpendicular to one another are orthogonal.\n",
        "\n",
        "### How to tell if two vectors are orthogonal\n",
        "\n",
        "Two vectors are orthogonal to each other if their dot product is zero. "
      ]
    },
    {
      "cell_type": "markdown",
      "metadata": {
        "id": "RuCV78PpNwB8",
        "colab_type": "text"
      },
      "source": [
        "## Unit Vectors\n",
        "\n",
        "A unit vector is any vector of \"unit length\" (1). You can turn any non-zero vector into a unit vector by dividing it by its norm (length/magnitude). Unit vectors are denoted by the hat symbol \"^\" above the variable.\n",
        "\n",
        "Example:\n",
        "\n",
        "\\begin{align}\n",
        " b = \\begin{bmatrix} 1 \\\\ 2 \\\\  2 \\end{bmatrix}\n",
        "\\end{align}\n",
        "\n",
        "Find the norm\n",
        " \n",
        " \\begin{align}\n",
        " ||b|| = \\sqrt{1^2 + 2^2 + 2^2} = \\sqrt{1 + 4 + 4} = \\sqrt{9} = 3\n",
        "\\end{align}\n",
        "\n",
        "Turn b into a unit vector by dividing it by its norm.\n",
        "\n",
        " \\begin{align}\n",
        " \\hat{b} = \\frac{1}{||b||}b = \\frac{1}{3}\\begin{bmatrix} 1 \\\\ 2 \\\\  2 \\end{bmatrix} = \\begin{bmatrix} \\frac{1}{3} \\\\ \\frac{2}{3} \\\\  \\frac{2}{3} \\end{bmatrix}\n",
        "\\end{align}\n",
        "\n",
        "You might frequently see mentioned the unit vectors used to denote a certain dimensional space. \n",
        "\n",
        "$\\mathbb{R}$ unit vector: $\\hat{i} = \\begin{bmatrix} 1 \\end{bmatrix}$\n",
        "\n",
        "\n",
        "$\\mathbb{R}^2$ unit vectors: $\\hat{i} = \\begin{bmatrix} 1 \\\\ 0 \\end{bmatrix}$, $\\hat{j} = \\begin{bmatrix} 0 \\\\ 1 \\end{bmatrix}$\n",
        "\n",
        "$\\mathbb{R}^3$ unit vectors: $\\hat{i} = \\begin{bmatrix} 1 \\\\ 0 \\\\ 0 \\end{bmatrix}$, $\\hat{j} = \\begin{bmatrix} 0 \\\\ 1 \\\\ 0 \\end{bmatrix}$,  $\\hat{k} = \\begin{bmatrix} 0 \\\\ 0 \\\\ 1 \\end{bmatrix}$\n",
        "\n",
        "You'll notice that in the corresponding space, these basis vectors are the rows/columns of the identity matrix.\n",
        "\n",
        "### Vectors as linear combinations of scalars and unit vectors\n",
        "\n",
        "Any vector (or matrix) can be be described in terms of a linear combination of scaled unit vectors. \n",
        "\n",
        "Example:\n",
        "\n",
        "\\begin{align}\n",
        "c = \\begin{bmatrix} 2 \\\\ 3 \\end{bmatrix} = 2\\begin{bmatrix} 1 \\\\ 0 \\end{bmatrix} + 3\\begin{bmatrix} 0 \\\\ 1 \\end{bmatrix} = 2\\hat{i} + 3\\hat{j}\n",
        "\\end{align}"
      ]
    },
    {
      "cell_type": "markdown",
      "metadata": {
        "id": "eiYx3xqgO3gR",
        "colab_type": "text"
      },
      "source": [
        "## Span\n",
        "\n",
        "The span is the set of all possible vectors that can be created with a linear combination of vectors. \n",
        "\n",
        "## Linearly Dependent Vectors\n",
        "\n",
        "Two or more vectors that live on the same line are linearly dependent. This means that there is no linear combination that will create a vector that lies outside of that line. In this case, the span of these vectors is the line that they lie on.\n",
        "\n",
        "## Linearly Independent Vectors\n",
        "\n",
        "Linearly independent vectors are vectors that don't lie on the same line as each other. If two vectors are linearly independent, then there ought to be some linear combination of them that could represent any vector in the space."
      ]
    },
    {
      "cell_type": "markdown",
      "metadata": {
        "id": "gRQb0BFqO44V",
        "colab_type": "text"
      },
      "source": [
        "## Basis\n",
        "\n",
        "The basis of a vector space $V$ is a set of vectors that are linearly independent and that span the vector space $V$. A set of vectors spans a space if their linear combinations fill the space.\n",
        "\n",
        "## Orthogonal Basis\n",
        "\n",
        "An orthogonal basis is a set of vectors that are linearly independent, span the vector space, and are orthogonal to each other.\n",
        "\n",
        "## Orthonormal Basis\n",
        "\n",
        "An orthonormal basis is a set of vectors that are linearly independent, span the vector space, are orthogonal to eachother and each have unit length. \n",
        "\n",
        "The unit vectors form an orthonormal basis for whatever vector space that they are spanning."
      ]
    },
    {
      "cell_type": "markdown",
      "metadata": {
        "id": "MyyqxO8DO7TP",
        "colab_type": "text"
      },
      "source": [
        "## Rank\n",
        "\n",
        "The rank of a matrix is the dimension of the vector space spanned by its columns. Just because a matrix has a certain number of rows or columns (dimensionality) doesn't neccessarily mean that it will span that dimensional space. Sometimes there exists a sort of redundancy within the rows/columns of a matrix (linear dependence) that becomes apparent when we reduce a matrix to row-echelon form via Gaussian Elimination.\n",
        "\n",
        "## Gaussian Elimination \n",
        "\n",
        "Gaussian Elimination is a process that seeks to take any given matrix and reduce it down to what is called \"Row-Echelon form.\" A matrix is in Row-Echelon form when it has a 1 as its leading entry (furthest left) in each row, and zeroes at every position below that main entry. These matrices will usually wind up as a sort of upper-triangular matrix (not necessarly square) with ones on the main diagonal. \n",
        "\n",
        "<center>![row-echelon form](http://www.mathwords.com/r/r_assets/r61.gif)</center>\n",
        "\n",
        "Gaussian Elimination takes a matrix and converts it to row-echelon form by doing combinations of three different row operations:\n",
        "\n",
        "1) You can swap any two rows\n",
        "\n",
        "2) You can multiply entire rows by scalars\n",
        "\n",
        "3) You can add/subtract rows from each other\n",
        "\n",
        "Example:\n",
        "\n",
        "\\begin{align}\n",
        " P = \\begin{bmatrix}\n",
        "  1 & 0 & 1 \\\\\n",
        "  -2 & -3 & 1 \\\\\n",
        "  3 & 3 & 0 \n",
        " \\end{bmatrix}\n",
        "\\end{align}\n",
        "\n",
        "Step 1: Add 2 times the 1st row to the 2nd row\n",
        "\n",
        "\\begin{align}\n",
        " P = \\begin{bmatrix}\n",
        "  1 & 0 & 1 \\\\\n",
        "  0 & -3 & 3 \\\\\n",
        "  3 & 3 & 0 \n",
        " \\end{bmatrix}\n",
        "\\end{align}\n",
        "\n",
        "Step 2: Add -3 times the 1st row to the 3rd row\n",
        "\n",
        "\\begin{align}\n",
        " P = \\begin{bmatrix}\n",
        "  1 & 0 & 1 \\\\\n",
        "  0 & -3 & 3 \\\\\n",
        "  0 & 3 & -3 \n",
        " \\end{bmatrix}\n",
        "\\end{align}\n",
        "\n",
        "Step 3: Multiply the 2nd row by -1/3\n",
        "\n",
        "\\begin{align}\n",
        " P = \\begin{bmatrix}\n",
        "  1 & 0 & 1 \\\\\n",
        "  0 & 1 & -1 \\\\\n",
        "  0 & 3 & -3 \n",
        " \\end{bmatrix}\n",
        "\\end{align}\n",
        "\n",
        "Step 4: Add -3 times the 2nd row to the 3rd row\n",
        "\n",
        "\\begin{align}\n",
        " P = \\begin{bmatrix}\n",
        "  1 & 0 & 1 \\\\\n",
        "  0 & 1 & -1 \\\\\n",
        "  0 & 0 & 0 \n",
        " \\end{bmatrix}\n",
        "\\end{align}\n",
        "\n",
        "Because we have two rows with leading 1s (these are called **pivot values**) left after the matrix is in row-echelon form, we know that its Rank is 2. \n",
        "\n",
        "This means that even though the original matrix is a 3x3 matrix, it can't span $\\mathbb{R}^3$, only $\\mathbb{R}^2$"
      ]
    },
    {
      "cell_type": "markdown",
      "metadata": {
        "id": "sRP9f3AElTPl",
        "colab_type": "text"
      },
      "source": [
        "## Projection\n",
        "The projection to a subspace is the place that is closest to the original point. Geometry tells us that we can find this closest point by dropping a perpendicular line from the point to the space.\n",
        "\n",
        "### Notation\n",
        "In linear algebra we write the projection of w onto L like this: \n",
        "\n",
        "\\begin{align}proj_{L}(\\vec{w})\\end{align}\n",
        "\n",
        "Equation for the projection of any vector $w$ onto a line $L$:\n",
        "\\begin{align}\n",
        "proj_{L}(w) =  \\frac{w \\cdot v}{v \\cdot v}v\n",
        "\\end{align}"
      ]
    },
    {
      "cell_type": "code",
      "metadata": {
        "id": "yMDvENbV7WGi",
        "colab_type": "code",
        "outputId": "8a3869ba-3489-4ae7-d85c-dc9371bd5e8b",
        "colab": {
          "base_uri": "https://localhost:8080/",
          "height": 281
        }
      },
      "source": [
        "# Axis Bounds\n",
        "plt.xlim(-1.1,4)          \n",
        "plt.ylim(-1.1,4)\n",
        "\n",
        "# Original Vector\n",
        "v = [1,1/2] \n",
        "w = [2,2]\n",
        "proj = np.multiply(2.4,v)\n",
        "\n",
        "# Set axes\n",
        "axes = plt.gca()\n",
        "axes.set_aspect('equal')\n",
        "\n",
        "# Get Vals for L\n",
        "x_vals = np.array(axes.get_xlim())\n",
        "y_vals = 1/2*x_vals\n",
        "\n",
        "# Plot Vectors and L\n",
        "plt.plot(x_vals, y_vals, '--', color='b', linewidth=1)\n",
        "plt.arrow(0, 0, proj[0], proj[1], linewidth=3, head_width=.05, head_length=0.05, color ='gray')\n",
        "plt.arrow(0, 0, v[0], v[1], linewidth=3, head_width=.05, head_length=0.05, color ='green')\n",
        "plt.arrow(0, 0, w[0], w[1], linewidth=3, head_width=.05, head_length=0.05, color ='red')\n",
        "\n",
        "plt.title(\"Projection of Red onto Green\")\n",
        "plt.show()"
      ],
      "execution_count": 18,
      "outputs": [
        {
          "output_type": "display_data",
          "data": {
            "image/png": "[encoded data removed]",
            "text/plain": [
              "<Figure size 432x288 with 1 Axes>"
            ]
          },
          "metadata": {
            "tags": []
          }
        }
      ]
    },
    {
      "cell_type": "code",
      "metadata": {
        "id": "UyvcyhEp-X79",
        "colab_type": "code",
        "colab": {}
      },
      "source": [
        "def projection(w,v):\n",
        "  return np.multiply((np.dot(w,v)/np.dot(v,v)),v)"
      ],
      "execution_count": 0,
      "outputs": []
    },
    {
      "cell_type": "markdown",
      "metadata": {
        "id": "w94ysjXy09pt",
        "colab_type": "text"
      },
      "source": [
        "#Vector Transformations and Dimensionality Reduction\n",
        "\n",
        "**Linear Transformation** - A mapping $V \\rightarrow W$ between two modules (including vector spaces) that preserves the operations of addition and scalar multiplication. Requirements:\n",
        "1.   T(u + v) = T(u) + T(v)\n",
        "2.   T(cu) = cT(u)\n",
        "\n",
        "**Eigenvector** - Any vector that doesn't change its orientation during a given transformation. An eigenvector may still be scaled by a scalar.\n",
        "\n",
        "**Eigenvalue** - The scalar that represents how a corresponding eigenvector was scaled during a transformation. Eigenvectors and eigenvalues always come in pairs.\n",
        "\n",
        "**[Curse of Dimensionality](https://en.wikipedia.org/wiki/Curse_of_dimensionality)** - A term that is used to refer to some of the challenges and limitations that arise from trying to process or model datasets with a large number of features (often hundreds or thousands). When the dimensionality increases, the volume of the space increases so fast that the available data become sparse, requiring more data to determine statistical signifigance or find relationships, while increasing the computational load."
      ]
    },
    {
      "cell_type": "markdown",
      "metadata": {
        "id": "8-NIz65s7YO6",
        "colab_type": "text"
      },
      "source": [
        "##Dimensionality Reduction Techniques\n",
        "\n",
        "**Feature Selection** - Selecting a subset of the most influential features.\n",
        "\n",
        "**Feature Extraction** - Create a new, smaller subset that captures the most influential information"
      ]
    },
    {
      "cell_type": "markdown",
      "metadata": {
        "id": "Vse1PlIy8FYd",
        "colab_type": "text"
      },
      "source": [
        "##Principle Component Analysis (PCA)\n",
        "\n",
        "**Principle Component Analysis** - A feature extraction technique that transforms a high dimensional dataset into a new lower dimensional dataset while preserving the maximum amount of information from the original data.\n",
        "\n",
        "**PCA Process**\n",
        "1.   Separate the data into X (features) and y (target) variables\n",
        "2.   Center each column at 0 by subtracting its mean\n",
        "3.   Divide each column by its standard deviation to get Z\n",
        "4.   Calculate the variance-covariance matrix of Z\n",
        "5.   Calculate the eigenvectors and eigenvalues of the variance-covariance matrix\n",
        "6.   Sort the eigenvalue and eigenvector pairs\n",
        "7.   Use a matrix transformation to project datapoints onto our eigenvector subspace\n",
        "\n"
      ]
    },
    {
      "cell_type": "code",
      "metadata": {
        "id": "xASVwnZ01jBE",
        "colab_type": "code",
        "colab": {}
      },
      "source": [
        "from sklearn.prepocessing import StandardScaler\n",
        "from sklearn.decomposition import PCA\n",
        "\n",
        "scaler = StandardScaler()\n",
        "scaler.fit(df)\n",
        "scaled = pd.DataFrame(scaler.transform(df))\n",
        "pca = PCA(2) #number of Principle Components to reduce to\n",
        "pca.fit(scaled)\n",
        "pca_df = pd.DataFrame(pca.transform(scaled), columns=['PC 1', 'PC 2'])"
      ],
      "execution_count": 0,
      "outputs": []
    },
    {
      "cell_type": "markdown",
      "metadata": {
        "id": "GBXgPTRE_Bq6",
        "colab_type": "text"
      },
      "source": [
        "#Clustering\n"
      ]
    },
    {
      "cell_type": "markdown",
      "metadata": {
        "id": "4fXamuUx_G2N",
        "colab_type": "text"
      },
      "source": [
        "Machine Learning Overview\n",
        "- **Supervised**: Labelled outputs\n",
        "    - Classification: Discrete output cagetories\n",
        "    - Regression: Continuous output values\n",
        "- **Unsupervised**: Outputs are not labelled\n",
        "- **Reinforcement**: Rewards/punishments for \"behaviors\""
      ]
    },
    {
      "cell_type": "markdown",
      "metadata": {
        "id": "yxgIwqAc_pJS",
        "colab_type": "text"
      },
      "source": [
        "**Clustering** - The assignment of a set of observations into subsets (called clusters) so that observations in the same cluster are similar in some sense. Clustering is a method of unsupervised learning. Process for clustering given a set of points in n-dimensional space:\n",
        "\n",
        "1. Select k random points to act as initial centroids (one point for each cluster)\n",
        "\n",
        "2. Find the cluster of points surrounding that centroid (assign points to the centroid that they lie closest to)\n",
        "\n",
        "3. Calculate a new centroid for the cluster\n",
        "\n",
        "4. Repeat steps 2 & 3 until the model converges\n",
        "\n",
        "**K-Means Clustering** - An algorithm to find groups in the data, with the number of groups represented by the variable K, with the center of each group being the mean. Selecting the number of groups can be done visually through the use of an elbow graph and looking for where the slope decreases the most.\n"
      ]
    },
    {
      "cell_type": "code",
      "metadata": {
        "id": "FgtqeVyQE6Fl",
        "colab_type": "code",
        "colab": {}
      },
      "source": [
        "#train and fit a model with n_clusters\n",
        "kmeans = KMeans(n_clusters=5)\n",
        "kmeans.fit(df)\n",
        "\n",
        "#add a new column with the cluster labels\n",
        "df['clusters'] = kmeans.labels_"
      ],
      "execution_count": 0,
      "outputs": []
    },
    {
      "cell_type": "code",
      "metadata": {
        "id": "glwXUEOMCi6j",
        "colab_type": "code",
        "colab": {}
      },
      "source": [
        "#Elbow graph\n",
        "distortions = []\n",
        "k = range(1,10)\n",
        "#fit a model from 1 to 10 clusters, and plot it to view inflections\n",
        "for i in k:\n",
        "  k_model = KMeans(n_clusters=i).fit(points)\n",
        "  distortions.append(k_model.inertia_)\n",
        "  \n",
        "plt.plot(k,distortions)\n",
        "plt.show()"
      ],
      "execution_count": 0,
      "outputs": []
    },
    {
      "cell_type": "code",
      "metadata": {
        "id": "TwVHq5zfEa0Q",
        "colab_type": "code",
        "colab": {}
      },
      "source": [
        "# Plotting clusters function from lecture, why reinvent the wheel\n",
        "def plot_clusters(df, column_header, centroids):\n",
        "  colors = {0:'red', 1:'green', 2:'blue'}\n",
        "  fig, ax = plt.subplots()\n",
        "  plt.title('k-means clustering')\n",
        "  \n",
        "  ax.plot(centroids.iloc[0].x, centroids.iloc[0].y, \"ok\")\n",
        "  ax.plot(centroids.iloc[1].x, centroids.iloc[1].y, \"ok\")\n",
        "  ax.plot(centroids.iloc[2].x, centroids.iloc[2].y, \"ok\")\n",
        "  \n",
        "  grouped = df.groupby(column_header)\n",
        "  for key, group in grouped:\n",
        "    group.plot(ax=ax, kind='scatter', x='x', y='y', \n",
        "               label=key, color=colors[key])\n",
        "  plt.show()\n",
        "\n",
        "def get_centroids(df,column):\n",
        "  return df.groupby(column).mean()"
      ],
      "execution_count": 0,
      "outputs": []
    },
    {
      "cell_type": "markdown",
      "metadata": {
        "id": "BvnbNhwzDk7q",
        "colab_type": "text"
      },
      "source": [
        "#No Free Lunch\n",
        "\n",
        "The no free lunch principle states that the more an algorithm is optimized to solve one specific kind of problem, the worse it gets at solving all other kinds of problems.\n",
        "\n",
        "1) There are always tradeoffs when selecting from different approaches. Understanding those tradeoffs and justifying the choice of methodology is just as important as actually doing the work itself.\n",
        "\n",
        "2) The only way that we can choose one approach over another is to make assumptions about the data. If we don't know anything about the characteristics of the data, then we can't make an informed choice of algorithm."
      ]
    }
  ]
}